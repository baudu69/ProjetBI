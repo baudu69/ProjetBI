{
 "cells": [
  {
   "cell_type": "markdown",
   "source": [
    "AUDU Bastien, PISCIONE Thomas"
   ],
   "metadata": {
    "collapsed": false
   }
  },
  {
   "cell_type": "code",
   "execution_count": 1,
   "metadata": {
    "collapsed": true
   },
   "outputs": [],
   "source": [
    "import numpy as np\n",
    "np.set_printoptions(threshold=10000,suppress=True)\n",
    "import pandas as pd\n",
    "import warnings\n",
    "import matplotlib.pyplot as plt\n",
    "warnings.filterwarnings('ignore')\n",
    "from sklearn.model_selection import train_test_split"
   ]
  },
  {
   "cell_type": "markdown",
   "source": [
    "## I. Découpage de la base en apprentissage/test"
   ],
   "metadata": {
    "collapsed": false
   }
  },
  {
   "cell_type": "code",
   "execution_count": 2,
   "outputs": [],
   "source": [
    "wave = pd.read_csv('Wave.txt', header=None, delim_whitespace=True)\n",
    "x = wave.iloc[:,:-1]\n",
    "y = wave.iloc[:,-1]\n",
    "x_train, x_test, y_train, y_test = train_test_split(x, y, test_size=0.5, random_state=0, stratify=y)"
   ],
   "metadata": {
    "collapsed": false
   }
  },
  {
   "cell_type": "markdown",
   "source": [
    "## II. Simulation de l’aspect semi-supervisé"
   ],
   "metadata": {
    "collapsed": false
   }
  },
  {
   "cell_type": "code",
   "execution_count": 3,
   "outputs": [],
   "source": [
    "# Fonction qui separe\n",
    "def semi_supervised(xTrain, yTrain, percent):\n",
    "    x_labelise, x_non_labelise, y_labelise, _ = train_test_split(xTrain, yTrain, test_size=percent, random_state=0)\n",
    "    return x_labelise, y_labelise, x_non_labelise"
   ],
   "metadata": {
    "collapsed": false
   }
  },
  {
   "cell_type": "code",
   "execution_count": 4,
   "outputs": [],
   "source": [
    "x_labelise, y_labelise, x_non_labelise = semi_supervised(x_train, y_train, 0.2)"
   ],
   "metadata": {
    "collapsed": false
   }
  },
  {
   "cell_type": "markdown",
   "source": [
    "## III. Sélection de variables semi-supervisée"
   ],
   "metadata": {
    "collapsed": false
   }
  },
  {
   "cell_type": "code",
   "execution_count": 5,
   "outputs": [],
   "source": [
    "def score(x_labelise, y_labelise, x_non_labelise, variable):\n",
    "    s1_haut = 0\n",
    "    s1_bas = 0\n",
    "    nb_classes = len(np.unique(y_labelise))\n",
    "    for classe in range(0, nb_classes):\n",
    "        u_i = np.array(np.mean(x_labelise[y_labelise == classe], axis=0))[variable]\n",
    "        u = np.mean(x_labelise, axis=0)[variable]\n",
    "        ecart_type_classes = np.std(x_labelise[y_labelise == classe], axis=0)[variable]\n",
    "        effectif_classe = len(x_labelise[y_labelise == classe])\n",
    "        s1_haut += effectif_classe*(u_i - u)**2\n",
    "        s1_bas += effectif_classe*ecart_type_classes**2\n",
    "    s1=s1_haut/s1_bas\n",
    "    variance_variable = np.var(x_non_labelise[variable])\n",
    "    s2_haut = 0\n",
    "    for i in range(0, len(x_non_labelise[variable])):\n",
    "        for j in range(0, len(x_non_labelise[variable])):\n",
    "            gauche = (x_non_labelise[variable][i] - x_non_labelise[variable][j])**2\n",
    "            distance = np.linalg.norm(x_non_labelise[i] - x_non_labelise[j])**2\n",
    "            droite = distance/ 10\n",
    "            droite = np.exp(-droite)\n",
    "            s2_haut += gauche*droite\n",
    "    s2 = s2_haut/variance_variable\n",
    "    return s1/s2"
   ],
   "metadata": {
    "collapsed": false
   }
  },
  {
   "cell_type": "code",
   "execution_count": 6,
   "outputs": [
    {
     "name": "stdout",
     "output_type": "stream",
     "text": [
      "Variable 0 : 0.00024680990549610807\n",
      "Variable 1 : 0.02493680155771171\n",
      "Variable 2 : 0.11598461051356031\n",
      "Variable 3 : 0.2085035304400286\n",
      "Variable 4 : 0.42807425965368795\n",
      "Variable 5 : 0.4239227687392061\n",
      "Variable 6 : 0.46232697415833457\n",
      "Variable 7 : 0.352648827183071\n",
      "Variable 8 : 0.3331002531308382\n",
      "Variable 9 : 0.32454219674915386\n",
      "Variable 10 : 0.3330371826819956\n",
      "Variable 11 : 0.26456986004537814\n",
      "Variable 12 : 0.3997284304945566\n",
      "Variable 13 : 0.3827506944601143\n",
      "Variable 14 : 0.5444430576302739\n",
      "Variable 15 : 0.4200174164466268\n",
      "Variable 16 : 0.3196741719801003\n",
      "Variable 17 : 0.21829270882072663\n",
      "Variable 18 : 0.10232527174615495\n",
      "Variable 19 : 0.03390665519145645\n",
      "Variable 20 : 0.00014112420670457063\n",
      "Variable 21 : 0.00023324632551580623\n",
      "Variable 22 : 0.0006606066289633591\n",
      "Variable 23 : 0.0006077307200210969\n",
      "Variable 24 : 0.00021817803743798923\n",
      "Variable 25 : 7.770927564299062e-05\n",
      "Variable 26 : 0.0010163478441984437\n",
      "Variable 27 : 0.001721145297258869\n",
      "Variable 28 : 0.000483370826829119\n",
      "Variable 29 : 4.7098274364145574e-05\n",
      "Variable 30 : 0.0021686859668162096\n",
      "Variable 31 : 0.0007720802914328763\n",
      "Variable 32 : 0.00020726123066672986\n",
      "Variable 33 : 0.0002590837903463636\n",
      "Variable 34 : 0.0007940784296898877\n",
      "Variable 35 : 0.0004829339351782656\n",
      "Variable 36 : 0.0006602744994255498\n",
      "Variable 37 : 0.0006721706719500451\n",
      "Variable 38 : 5.553285995242507e-05\n",
      "Variable 39 : 9.823438299009108e-05\n"
     ]
    }
   ],
   "source": [
    "score(x_labelise, y_labelise, np.array(x_non_labelise), 1)\n",
    "scores = []\n",
    "for i in range(0, len(x_non_labelise.columns)):\n",
    "    scores.append(score(x_labelise, y_labelise, np.array(x_non_labelise), i))\n",
    "for i in range(0, len(scores)):\n",
    "    print(\"Variable \" + str(i) + \" : \" + str(scores[i]))"
   ],
   "metadata": {
    "collapsed": false
   }
  },
  {
   "cell_type": "code",
   "execution_count": 7,
   "outputs": [
    {
     "data": {
      "text/plain": "<Figure size 640x480 with 1 Axes>",
      "image/png": "[encoded data removed]"
     },
     "metadata": {},
     "output_type": "display_data"
    }
   ],
   "source": [
    "#Plot the scores\n",
    "plt.plot(scores)\n",
    "\n",
    "#Index des variables par ordre decroissant de score\n",
    "variablesTries = np.argsort(scores)[::-1]"
   ],
   "metadata": {
    "collapsed": false
   }
  },
  {
   "cell_type": "markdown",
   "source": [
    "Les variables avec le taux le plus haut sont celles qui sont le plus utiles.\n",
    "On va donc trier les variables par ordre décroissant de score et entrainer un MLP avec les 5 premières, puis les 10, puis les 15, etc.\n",
    "D'apres ce que l'on voit, l'accuracy devrait monter jusqu'a la 20eme variable, puis se stabiliser."
   ],
   "metadata": {
    "collapsed": false
   }
  },
  {
   "cell_type": "code",
   "execution_count": 8,
   "outputs": [
    {
     "name": "stdout",
     "output_type": "stream",
     "text": [
      "Variables : [14  6  4  5 15]\n",
      "Variables : [14  6  4  5 15 12 13  7  8 10]\n",
      "Variables : [14  6  4  5 15 12 13  7  8 10  9 16 11 17  3]\n",
      "Variables : [14  6  4  5 15 12 13  7  8 10  9 16 11 17  3  2 18 19  1 30]\n",
      "Variables : [14  6  4  5 15 12 13  7  8 10  9 16 11 17  3  2 18 19  1 30 27 26 34 31\n",
      " 37]\n",
      "Variables : [14  6  4  5 15 12 13  7  8 10  9 16 11 17  3  2 18 19  1 30 27 26 34 31\n",
      " 37 22 36 23 28 35]\n",
      "Variables : [14  6  4  5 15 12 13  7  8 10  9 16 11 17  3  2 18 19  1 30 27 26 34 31\n",
      " 37 22 36 23 28 35 33  0 21 24 32]\n",
      "Variables : [14  6  4  5 15 12 13  7  8 10  9 16 11 17  3  2 18 19  1 30 27 26 34 31\n",
      " 37 22 36 23 28 35 33  0 21 24 32 20 39 25 38 29]\n"
     ]
    },
    {
     "data": {
      "text/plain": "[0.7432, 0.8328, 0.8632, 0.8456, 0.8404, 0.842, 0.8332, 0.8332]"
     },
     "execution_count": 8,
     "metadata": {},
     "output_type": "execute_result"
    }
   ],
   "source": [
    "from sklearn.metrics import accuracy_score\n",
    "from sklearn.neural_network import MLPClassifier\n",
    "acc = []\n",
    "#Liste avec les 5 premieres variables, puis les 10\n",
    "liste = [variablesTries[:5], variablesTries[:10], variablesTries[:15], variablesTries[:20], variablesTries[:25], variablesTries[:30], variablesTries[:35], variablesTries[:40]]\n",
    "for colonnes in liste:\n",
    "    print(\"Variables : \" + str(colonnes))\n",
    "    x_c_train = x_train.iloc[:, colonnes]\n",
    "    model = MLPClassifier(alpha=0.01)\n",
    "    model.fit(x_c_train, y_train)\n",
    "    predict = model.predict(x_test.iloc[:, colonnes])\n",
    "    acc.append(accuracy_score(y_test, predict))\n",
    "acc"
   ],
   "metadata": {
    "collapsed": false
   }
  },
  {
   "cell_type": "code",
   "execution_count": 9,
   "outputs": [
    {
     "data": {
      "text/plain": "[<matplotlib.lines.Line2D at 0x7ff5c6cadd20>]"
     },
     "execution_count": 9,
     "metadata": {},
     "output_type": "execute_result"
    },
    {
     "data": {
      "text/plain": "<Figure size 640x480 with 1 Axes>",
      "image/png": "[encoded data removed]"
     },
     "metadata": {},
     "output_type": "display_data"
    }
   ],
   "source": [
    "plt.plot([5, 10, 15, 20, 25, 30, 35, 40], acc)"
   ],
   "metadata": {
    "collapsed": false
   }
  },
  {
   "cell_type": "markdown",
   "source": [
    "Comme on pouvait s'y attendre, l'accuracy augmente jusqu'a la 20eme variable, puis se stabilise.\n",
    "Il n'est donc pas necessaire d'utiliser toutes les variables pour obtenir une bonne accuracy."
   ],
   "metadata": {
    "collapsed": false
   }
  }
 ],
 "metadata": {
  "kernelspec": {
   "display_name": "Python 3",
   "language": "python",
   "name": "python3"
  },
  "language_info": {
   "codemirror_mode": {
    "name": "ipython",
    "version": 2
   },
   "file_extension": ".py",
   "mimetype": "text/x-python",
   "name": "python",
   "nbconvert_exporter": "python",
   "pygments_lexer": "ipython2",
   "version": "2.7.6"
  }
 },
 "nbformat": 4,
 "nbformat_minor": 0
}
