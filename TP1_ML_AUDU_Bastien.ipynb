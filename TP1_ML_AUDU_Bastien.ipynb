{
 "cells": [
  {
   "cell_type": "code",
   "execution_count": 380,
   "metadata": {
    "collapsed": true,
    "pycharm": {
     "name": "#%%\n"
    }
   },
   "outputs": [],
   "source": [
    "import numpy as np\n",
    "np.set_printoptions(threshold=10000,suppress=True)\n",
    "import pandas as pd\n",
    "import warnings\n",
    "import matplotlib\n",
    "import matplotlib.pyplot as plt\n",
    "warnings.filterwarnings('ignore')"
   ]
  },
  {
   "cell_type": "markdown",
   "source": [
    "## Chargement des données"
   ],
   "metadata": {
    "collapsed": false,
    "pycharm": {
     "name": "#%% md\n"
    }
   }
  },
  {
   "cell_type": "code",
   "execution_count": 381,
   "outputs": [],
   "source": [
    "iris=pd.read_csv('./iris.txt', sep='\\t', header=None)"
   ],
   "metadata": {
    "collapsed": false,
    "pycharm": {
     "name": "#%%\n"
    }
   }
  },
  {
   "cell_type": "code",
   "execution_count": 382,
   "outputs": [],
   "source": [
    "X=iris.iloc[:,:-1].values\n",
    "Y=iris.iloc[:, -1].values"
   ],
   "metadata": {
    "collapsed": false,
    "pycharm": {
     "name": "#%%\n"
    }
   }
  },
  {
   "cell_type": "code",
   "execution_count": 383,
   "outputs": [],
   "source": [
    "from sklearn.model_selection import train_test_split\n",
    "Xtrain, Xtest, Ytrain, Ytest = train_test_split(X, Y, test_size = 1/3, random_state = 1)"
   ],
   "metadata": {
    "collapsed": false,
    "pycharm": {
     "name": "#%%\n"
    }
   }
  },
  {
   "cell_type": "code",
   "execution_count": 441,
   "outputs": [],
   "source": [
    "class Perc:\n",
    "    def __init__(self, input_size=4):\n",
    "        self.input_size = input_size\n",
    "        self.weight = np.random.rand(1, input_size)\n",
    "\n",
    "    def predict(self, x):\n",
    "        return np.dot(self.weight, x)\n",
    "\n",
    "    def reset(self):\n",
    "        self.weight = np.random.rand(1, self.input_size)"
   ],
   "metadata": {
    "collapsed": false,
    "pycharm": {
     "name": "#%%\n"
    }
   }
  },
  {
   "cell_type": "code",
   "execution_count": 442,
   "outputs": [],
   "source": [
    "P1 = Perc()\n",
    "P2 = Perc()\n",
    "P3 = Perc()"
   ],
   "metadata": {
    "collapsed": false,
    "pycharm": {
     "name": "#%%\n"
    }
   }
  },
  {
   "cell_type": "code",
   "execution_count": 443,
   "outputs": [],
   "source": [
    "def predict(XDeTest):\n",
    "    YPred1 = P1.predict(XDeTest)\n",
    "    YPred2 = P2.predict(XDeTest)\n",
    "    YPred3 = P3.predict(XDeTest)\n",
    "    proba = np.array([YPred1, YPred2, YPred3])\n",
    "    algo = proba.argmax()+1\n",
    "    return algo\n",
    "\n",
    "def predictAll(XALL):\n",
    "    ret = np.zeros(len(XALL))\n",
    "    for i in range(0, len(XALL)):\n",
    "        ret[i] = predict(XALL[i])\n",
    "    return ret\n",
    "\n",
    "\n",
    "def fit(XdeTrain, YDeTrain, epochs=500, eta=0.1, reset=False):\n",
    "    if reset:\n",
    "        P1.reset()\n",
    "        P2.reset()\n",
    "        P3.reset()\n",
    "    for epoch in range(0, epochs):\n",
    "        for i in range(len(XdeTrain)):\n",
    "            donneeX = XdeTrain[i]\n",
    "            donneeY = YDeTrain[i]\n",
    "\n",
    "            Y1 = P1.predict(donneeX)\n",
    "            Y2 = P2.predict(donneeX)\n",
    "            Y3 = P3.predict(donneeX)\n",
    "\n",
    "            if donneeY == 1:\n",
    "                if Y1 <=0 :\n",
    "                    P1.weight += eta*donneeX\n",
    "                if Y2 > 0:\n",
    "                    P2.weight -= eta*donneeX\n",
    "                if Y3 > 0:\n",
    "                    P3.weight -= eta*donneeX\n",
    "\n",
    "            if donneeY == 2:\n",
    "                if Y2 <= 0:\n",
    "                    P2.weight += eta*donneeX\n",
    "                if Y1 >= 0:\n",
    "                    P1.weight -= eta*donneeX\n",
    "                if Y3 >= 0:\n",
    "                    P3.weight -= eta*donneeX\n",
    "\n",
    "            if donneeY == 3:\n",
    "                if Y3 <= 0 :\n",
    "                    P3.weight += eta*donneeX\n",
    "                if Y2 >= 0:\n",
    "                    P2.weight -= eta*donneeX\n",
    "                if Y1 >= 0:\n",
    "                    P1.weight -= eta*donneeX\n"
   ],
   "metadata": {
    "collapsed": false,
    "pycharm": {
     "name": "#%%\n"
    }
   }
  },
  {
   "cell_type": "code",
   "execution_count": 444,
   "outputs": [],
   "source": [
    "from sklearn.metrics import confusion_matrix, accuracy_score, precision_score, recall_score, ConfusionMatrixDisplay\n",
    "def matrix(YPred, YTest):\n",
    "    cm = confusion_matrix(YTest, YPred)\n",
    "    disp = ConfusionMatrixDisplay(confusion_matrix=cm)\n",
    "    disp.plot()\n",
    "    plt.show()\n",
    "    print(\"Accuracy : \" + str(accuracy_score(y_true=Ytest, y_pred=YPred)))\n",
    "    print(\"Precision 1 : \" + str(precision_score(y_true=Ytest, y_pred=YPred, average=None)[0]))\n",
    "    print(\"Precision 2 : \" + str(precision_score(y_true=Ytest, y_pred=YPred, average=None)[1]))\n",
    "    print(\"Precision 3 : \" + str(precision_score(y_true=Ytest, y_pred=YPred, average=None)[2]))\n",
    "    print(\"Recall 1 : \" + str(recall_score(y_true=Ytest, y_pred=YPred, average=None)[0]))\n",
    "    print(\"Recall 2 : \" + str(recall_score(y_true=Ytest, y_pred=YPred, average=None)[1]))\n",
    "    print(\"Recall 3 : \" + str(recall_score(y_true=Ytest, y_pred=YPred, average=None)[2]))"
   ],
   "metadata": {
    "collapsed": false,
    "pycharm": {
     "name": "#%%\n"
    }
   }
  },
  {
   "cell_type": "code",
   "execution_count": 448,
   "outputs": [
    {
     "data": {
      "text/plain": "<Figure size 640x480 with 2 Axes>",
      "image/png": "[encoded data removed]"
     },
     "metadata": {},
     "output_type": "display_data"
    },
    {
     "name": "stdout",
     "output_type": "stream",
     "text": [
      "Accuracy : 0.88\n",
      "Precision 1 : 0.8095238095238095\n",
      "Precision 2 : 0.9333333333333333\n",
      "Precision 3 : 0.9285714285714286\n",
      "Recall 1 : 1.0\n",
      "Recall 2 : 0.7368421052631579\n",
      "Recall 3 : 0.9285714285714286\n"
     ]
    }
   ],
   "source": [
    "fit(Xtrain, Ytrain, epochs=1000, eta=0.01, reset=True)\n",
    "matrix(predictAll(Xtest), Ytest)"
   ],
   "metadata": {
    "collapsed": false,
    "pycharm": {
     "name": "#%%\n"
    }
   }
  },
  {
   "cell_type": "markdown",
   "source": [
    "### Normalisation des données"
   ],
   "metadata": {
    "collapsed": false,
    "pycharm": {
     "name": "#%% md\n"
    }
   }
  },
  {
   "cell_type": "code",
   "execution_count": 432,
   "outputs": [
    {
     "data": {
      "text/plain": "<Figure size 640x480 with 2 Axes>",
      "image/png": "[encoded data removed]"
     },
     "metadata": {},
     "output_type": "display_data"
    },
    {
     "name": "stdout",
     "output_type": "stream",
     "text": [
      "Accuracy : 0.8\n",
      "Precision 1 : 1.0\n",
      "Precision 2 : 0.7368421052631579\n",
      "Precision 3 : 0.6428571428571429\n",
      "Recall 1 : 1.0\n",
      "Recall 2 : 0.7368421052631579\n",
      "Recall 3 : 0.6428571428571429\n"
     ]
    }
   ],
   "source": [
    "from sklearn.preprocessing import StandardScaler\n",
    "\n",
    "SS = StandardScaler()\n",
    "SS.fit(Xtrain)\n",
    "Xtrain_norm = SS.transform(Xtrain)\n",
    "Xtest_norm = SS.transform(Xtest)\n",
    "\n",
    "fit(Xtrain_norm, Ytrain, epochs=10, eta=0.0001, reset=True)\n",
    "matrix(predictAll(Xtest_norm), Ytest)"
   ],
   "metadata": {
    "collapsed": false,
    "pycharm": {
     "name": "#%%\n"
    }
   }
  },
  {
   "cell_type": "code",
   "execution_count": 440,
   "outputs": [
    {
     "data": {
      "text/plain": "<Figure size 640x480 with 2 Axes>",
      "image/png": "[encoded data removed]"
     },
     "metadata": {},
     "output_type": "display_data"
    },
    {
     "name": "stdout",
     "output_type": "stream",
     "text": [
      "Accuracy : 0.92\n",
      "Precision 1 : 1.0\n",
      "Precision 2 : 1.0\n",
      "Precision 3 : 0.7777777777777778\n",
      "Recall 1 : 1.0\n",
      "Recall 2 : 0.7894736842105263\n",
      "Recall 3 : 1.0\n"
     ]
    },
    {
     "data": {
      "text/plain": "array([[-0.85266944,  0.90971221, -1.29719124, -1.29488144],\n       [-0.36957061,  1.15425851, -1.41133038, -1.29488144],\n       [ 2.28747298,  1.88789739,  1.67042621,  1.28456366],\n       [ 1.32127531,  0.17607333,  0.92852184,  1.1555914 ],\n       [ 1.80437415, -0.31301926,  1.44214794,  0.76867464],\n       [ 0.71740177, -0.55756555,  1.04266098,  1.28456366],\n       [ 0.47585235, -0.55756555,  0.58610445,  0.76867464],\n       [ 0.23430293,  0.90971221,  0.41489575,  0.51073013],\n       [ 2.28747298, -0.55756555,  1.67042621,  1.02661915],\n       [-0.12802119, -0.06847296,  0.24368705, -0.00515889],\n       [-1.21499357,  0.90971221, -1.24012168, -1.29488144],\n       [-0.12802119, -1.29120443,  0.70024358,  1.02661915],\n       [ 0.59662706, -0.80211184,  0.64317401,  0.76867464],\n       [-1.21499357, -0.06847296, -1.35426081, -1.42385369],\n       [-1.33576828,  0.42061962, -1.41133038, -1.29488144],\n       [ 0.83817648, -0.06847296,  1.15680011,  1.28456366],\n       [-1.45654298,  0.90971221, -1.35426081, -1.16590918],\n       [ 0.35507764, -0.06847296,  0.64317401,  0.76867464],\n       [ 0.83817648,  0.42061962,  0.75731315,  1.02661915],\n       [ 1.07972589,  0.17607333,  0.35782618,  0.25278562],\n       [-0.12802119, -0.55756555,  0.41489575,  0.12381336],\n       [ 1.07972589,  0.66516592,  1.09973054,  1.67148042],\n       [ 0.23430293, -0.06847296,  0.58610445,  0.76867464],\n       [-0.85266944,  1.88789739, -1.24012168, -1.29488144],\n       [ 0.23430293, -2.02484331,  0.12954792, -0.2631034 ],\n       [ 0.71740177, -0.31301926,  0.30075661,  0.12381336],\n       [ 0.83817648, -0.06847296,  0.98559141,  0.76867464],\n       [-0.97344415, -1.78029702, -0.26993905, -0.2631034 ],\n       [ 0.59662706,  0.66516592,  1.27093924,  1.67148042],\n       [-0.36957061, -1.29120443,  0.12954792,  0.12381336],\n       [-0.49034532,  1.64335109, -1.29719124, -1.29488144],\n       [-1.09421886,  0.17607333, -1.29719124, -1.42385369],\n       [-0.73189473,  2.62153627, -1.29719124, -1.42385369],\n       [ 1.07972589,  0.66516592,  1.09973054,  1.1555914 ],\n       [-1.6980924 , -0.06847296, -1.41133038, -1.29488144],\n       [ 0.23430293, -0.80211184,  0.75731315,  0.51073013],\n       [ 0.71740177, -0.80211184,  0.87145228,  0.89764689],\n       [ 0.11352823, -0.06847296,  0.75731315,  0.76867464],\n       [-0.73189473,  1.15425851, -1.29719124, -1.29488144],\n       [-0.85266944,  0.66516592, -1.18305211, -0.90796467],\n       [-0.00724648, -0.80211184,  0.18661748, -0.2631034 ],\n       [-1.09421886,  0.17607333, -1.29719124, -1.42385369],\n       [ 1.92514885, -0.55756555,  1.32800881,  0.89764689],\n       [ 0.47585235, -0.31301926,  0.30075661,  0.12381336],\n       [ 2.16669827, -0.06847296,  1.61335664,  1.1555914 ],\n       [ 1.07972589, -0.06847296,  0.81438271,  1.41353591],\n       [ 0.59662706, -1.78029702,  0.35782618,  0.12381336],\n       [ 0.47585235,  0.90971221,  0.92852184,  1.41353591],\n       [ 1.68359944,  1.3988048 ,  1.32800881,  1.67148042],\n       [-0.2487959 , -0.31301926, -0.09873035,  0.12381336],\n       [-0.12802119,  3.35517515, -1.29719124, -1.03693693],\n       [-0.00724648, -0.80211184,  0.07247835, -0.00515889],\n       [-1.57731769, -1.78029702, -1.41133038, -1.16590918],\n       [-0.36957061, -1.53575072,  0.01540878, -0.13413115],\n       [ 1.32127531,  0.17607333,  0.64317401,  0.38175787],\n       [-0.97344415,  0.90971221, -1.24012168, -1.03693693],\n       [ 1.2005006 , -0.55756555,  0.58610445,  0.25278562],\n       [-0.97344415,  1.15425851, -1.24012168, -0.77899242],\n       [-1.21499357,  0.90971221, -1.06891298, -1.29488144],\n       [ 0.59662706,  0.90971221,  1.04266098,  1.54250817],\n       [-0.2487959 , -0.55756555,  0.64317401,  1.02661915],\n       [ 1.2005006 ,  0.42061962,  1.21386968,  1.41353591],\n       [-0.97344415,  0.66516592, -1.35426081, -1.29488144],\n       [-0.85266944,  1.64335109, -1.29719124, -1.03693693],\n       [ 0.11352823,  0.42061962,  0.58610445,  0.76867464],\n       [-1.45654298,  0.17607333, -1.29719124, -1.29488144],\n       [-0.00724648, -0.80211184,  0.75731315,  0.89764689],\n       [-1.21499357,  0.17607333, -1.24012168, -1.29488144],\n       [ 0.83817648, -0.06847296,  0.81438271,  1.02661915],\n       [-1.09421886, -1.29120443,  0.41489575,  0.63970238],\n       [-1.45654298,  0.42061962, -1.35426081, -1.29488144],\n       [ 0.71740177,  0.42061962,  0.87145228,  1.41353591],\n       [-1.81886711, -0.06847296, -1.52546951, -1.42385369],\n       [-0.2487959 , -0.06847296,  0.18661748,  0.12381336],\n       [-1.6980924 , -0.31301926, -1.35426081, -1.29488144],\n       [-0.36957061, -1.53575072, -0.04166078, -0.2631034 ],\n       [-0.97344415, -2.5139359 , -0.15579992, -0.2631034 ],\n       [-0.85266944,  1.15425851, -1.35426081, -1.29488144],\n       [-1.09421886, -0.06847296, -1.35426081, -1.29488144],\n       [-1.09421886, -1.53575072, -0.26993905, -0.2631034 ],\n       [-1.45654298,  1.3988048 , -1.58253907, -1.29488144],\n       [ 0.11352823, -0.06847296,  0.24368705,  0.38175787],\n       [ 0.35507764, -0.31301926,  0.52903488,  0.25278562],\n       [-0.97344415,  0.90971221, -1.29719124, -1.29488144],\n       [ 1.07972589,  0.17607333,  0.52903488,  0.38175787],\n       [-0.12802119, -0.31301926,  0.24368705,  0.12381336],\n       [ 0.47585235, -2.02484331,  0.41489575,  0.38175787],\n       [ 1.44205002,  0.42061962,  0.52903488,  0.25278562],\n       [-0.00724648, -0.80211184,  0.75731315,  0.89764689],\n       [-0.49034532,  0.90971221, -1.18305211, -1.29488144],\n       [-0.97344415, -0.06847296, -1.24012168, -1.29488144],\n       [ 0.35507764, -1.04665814,  1.04266098,  0.25278562],\n       [ 0.35507764, -0.55756555,  0.12954792,  0.12381336],\n       [ 1.68359944, -0.06847296,  1.15680011,  0.51073013],\n       [-0.12802119, -1.04665814, -0.15579992, -0.2631034 ],\n       [ 0.59662706, -0.55756555,  0.75731315,  0.38175787],\n       [ 0.71740177,  0.17607333,  0.98559141,  0.76867464],\n       [ 0.59662706, -1.29120443,  0.64317401,  0.38175787],\n       [ 1.07972589,  0.17607333,  1.04266098,  1.54250817],\n       [-1.09421886,  0.17607333, -1.29719124, -1.42385369]])"
     },
     "execution_count": 440,
     "metadata": {},
     "output_type": "execute_result"
    }
   ],
   "source": [
    "from sklearn.neural_network import MLPClassifier\n",
    "\n",
    "MLP = MLPClassifier(random_state=1)\n",
    "MLP.fit(Xtrain, Ytrain)\n",
    "YMLP = MLP.predict(Xtest)\n",
    "matrix(YMLP, Ytest)"
   ],
   "metadata": {
    "collapsed": false,
    "pycharm": {
     "name": "#%%\n"
    }
   }
  }
 ],
 "metadata": {
  "kernelspec": {
   "display_name": "Python 3",
   "language": "python",
   "name": "python3"
  },
  "language_info": {
   "codemirror_mode": {
    "name": "ipython",
    "version": 2
   },
   "file_extension": ".py",
   "mimetype": "text/x-python",
   "name": "python",
   "nbconvert_exporter": "python",
   "pygments_lexer": "ipython2",
   "version": "2.7.6"
  }
 },
 "nbformat": 4,
 "nbformat_minor": 0
}