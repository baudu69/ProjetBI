{
 "cells": [
  {
   "cell_type": "code",
   "execution_count": 380,
   "metadata": {
    "collapsed": true,
    "pycharm": {
     "name": "#%%\n"
    }
   },
   "outputs": [],
   "source": [
    "import numpy as np\n",
    "np.set_printoptions(threshold=10000,suppress=True)\n",
    "import pandas as pd\n",
    "import warnings\n",
    "import matplotlib\n",
    "import matplotlib.pyplot as plt\n",
    "warnings.filterwarnings('ignore')"
   ]
  },
  {
   "cell_type": "markdown",
   "source": [
    "## Chargement des données"
   ],
   "metadata": {
    "collapsed": false,
    "pycharm": {
     "name": "#%% md\n"
    }
   }
  },
  {
   "cell_type": "code",
   "execution_count": 381,
   "outputs": [],
   "source": [
    "iris=pd.read_csv('./iris.txt', sep='\\t', header=None)"
   ],
   "metadata": {
    "collapsed": false,
    "pycharm": {
     "name": "#%%\n"
    }
   }
  },
  {
   "cell_type": "code",
   "execution_count": 382,
   "outputs": [],
   "source": [
    "X=iris.iloc[:,:-1].values\n",
    "Y=iris.iloc[:, -1].values"
   ],
   "metadata": {
    "collapsed": false,
    "pycharm": {
     "name": "#%%\n"
    }
   }
  },
  {
   "cell_type": "code",
   "execution_count": 383,
   "outputs": [],
   "source": [
    "from sklearn.model_selection import train_test_split\n",
    "Xtrain, Xtest, Ytrain, Ytest = train_test_split(X, Y, test_size = 1/3, random_state = 1)"
   ],
   "metadata": {
    "collapsed": false,
    "pycharm": {
     "name": "#%%\n"
    }
   }
  },
  {
   "cell_type": "code",
   "execution_count": 384,
   "outputs": [],
   "source": [
    "class Perc:\n",
    "    def __init__(self):\n",
    "        self.weight = np.zeros(4)\n",
    "\n",
    "    def predict(self, x):\n",
    "        prob1 = np.dot(self.weight, x)\n",
    "        if prob1 > 0:\n",
    "            return [0.0, 1.0]\n",
    "        return [1.0, 0.0]\n",
    "\n",
    "    def reset(self):\n",
    "        self.weight = np.zeros(4)"
   ],
   "metadata": {
    "collapsed": false,
    "pycharm": {
     "name": "#%%\n"
    }
   }
  },
  {
   "cell_type": "code",
   "execution_count": 385,
   "outputs": [],
   "source": [
    "P1 = Perc()\n",
    "P2 = Perc()\n",
    "P3 = Perc()"
   ],
   "metadata": {
    "collapsed": false,
    "pycharm": {
     "name": "#%%\n"
    }
   }
  },
  {
   "cell_type": "code",
   "execution_count": 386,
   "outputs": [],
   "source": [
    "def predict(XDeTest):\n",
    "    YPred1 = P1.predict(XDeTest)\n",
    "    YPred2 = P2.predict(XDeTest)\n",
    "    YPred3 = P3.predict(XDeTest)\n",
    "    proba = np.array([YPred1[1], YPred2[1], YPred3[1]])\n",
    "    algo = proba.argmax()+1\n",
    "    return algo\n",
    "\n",
    "def predictAll(XALL):\n",
    "    ret = np.zeros(len(XALL))\n",
    "    for i in range(0, len(XALL)):\n",
    "        ret[i] = predict(XALL[i])\n",
    "    return ret\n",
    "\n",
    "\n",
    "def fit(XdeTrain, YDeTrain, epochs=500, eta=0.1, reset=False):\n",
    "    if reset:\n",
    "        P1.reset()\n",
    "        P2.reset()\n",
    "        P3.reset()\n",
    "    for epoch in range(0, epochs):\n",
    "        for i in range(len(XdeTrain)):\n",
    "            donneeX = XdeTrain[i]\n",
    "            donneeY = YDeTrain[i]\n",
    "\n",
    "            Y1 = P1.predict(donneeX)\n",
    "            Y2 = P2.predict(donneeX)\n",
    "            Y3 = P3.predict(donneeX)\n",
    "\n",
    "            if donneeY == 1:\n",
    "                if Y1[1] != 1:\n",
    "                    P1.weight += eta*donneeX\n",
    "                if Y2[1] == 1:\n",
    "                    P2.weight -= eta*donneeX\n",
    "                if Y3[1] == 1:\n",
    "                    P3.weight -= eta*donneeX\n",
    "\n",
    "            if donneeY == 2:\n",
    "                if Y2[1] != 1:\n",
    "                    P2.weight += eta*donneeX\n",
    "                if Y1[1] == 1:\n",
    "                    P1.weight -= eta*donneeX\n",
    "                if Y3[1] == 1:\n",
    "                    P3.weight -= eta*donneeX\n",
    "\n",
    "            if donneeY == 3:\n",
    "                if Y3[1] != 1:\n",
    "                    P3.weight += eta*donneeX\n",
    "                if Y2[1] == 1:\n",
    "                    P2.weight -= eta*donneeX\n",
    "                if Y1[1] == 1:\n",
    "                    P1.weight -= eta*donneeX\n"
   ],
   "metadata": {
    "collapsed": false,
    "pycharm": {
     "name": "#%%\n"
    }
   }
  },
  {
   "cell_type": "code",
   "execution_count": 387,
   "outputs": [],
   "source": [
    "from sklearn.metrics import confusion_matrix, accuracy_score, precision_score, recall_score, ConfusionMatrixDisplay\n",
    "def matrix(YPred, YTest):\n",
    "    cm = confusion_matrix(YTest, YPred)\n",
    "    disp = ConfusionMatrixDisplay(confusion_matrix=cm)\n",
    "    disp.plot()\n",
    "    plt.show()\n",
    "    print(\"Accuracy : \" + str(accuracy_score(y_true=Ytest, y_pred=YPred)))\n",
    "    print(\"Precision 1 : \" + str(precision_score(y_true=Ytest, y_pred=YPred, average=None)[0]))\n",
    "    print(\"Precision 2 : \" + str(precision_score(y_true=Ytest, y_pred=YPred, average=None)[1]))\n",
    "    print(\"Precision 3 : \" + str(precision_score(y_true=Ytest, y_pred=YPred, average=None)[2]))\n",
    "    print(\"Recall 1 : \" + str(recall_score(y_true=Ytest, y_pred=YPred, average=None)[0]))\n",
    "    print(\"Recall 2 : \" + str(recall_score(y_true=Ytest, y_pred=YPred, average=None)[1]))\n",
    "    print(\"Recall 3 : \" + str(recall_score(y_true=Ytest, y_pred=YPred, average=None)[2]))"
   ],
   "metadata": {
    "collapsed": false,
    "pycharm": {
     "name": "#%%\n"
    }
   }
  },
  {
   "cell_type": "code",
   "execution_count": 388,
   "outputs": [
    {
     "data": {
      "text/plain": "<Figure size 640x480 with 2 Axes>",
      "image/png": "[encoded data removed]"
     },
     "metadata": {},
     "output_type": "display_data"
    },
    {
     "name": "stdout",
     "output_type": "stream",
     "text": [
      "Accuracy : 0.68\n",
      "Precision 1 : 0.7727272727272727\n",
      "Precision 2 : 0.56\n",
      "Precision 3 : 1.0\n",
      "Recall 1 : 1.0\n",
      "Recall 2 : 0.7368421052631579\n",
      "Recall 3 : 0.21428571428571427\n"
     ]
    }
   ],
   "source": [
    "fit(Xtrain, Ytrain, epochs=10000, eta=0.1, reset=True)\n",
    "matrix(predictAll(Xtest), Ytest)"
   ],
   "metadata": {
    "collapsed": false,
    "pycharm": {
     "name": "#%%\n"
    }
   }
  },
  {
   "cell_type": "code",
   "execution_count": 389,
   "outputs": [
    {
     "data": {
      "text/plain": "<Figure size 640x480 with 2 Axes>",
      "image/png": "[encoded data removed]"
     },
     "metadata": {},
     "output_type": "display_data"
    },
    {
     "name": "stdout",
     "output_type": "stream",
     "text": [
      "Accuracy : 0.72\n",
      "Precision 1 : 1.0\n",
      "Precision 2 : 0.5757575757575758\n",
      "Precision 3 : 0.0\n",
      "Recall 1 : 1.0\n",
      "Recall 2 : 1.0\n",
      "Recall 3 : 0.0\n"
     ]
    }
   ],
   "source": [
    "from sklearn.preprocessing import StandardScaler\n",
    "\n",
    "StS = StandardScaler()\n",
    "StS.fit(Xtrain)\n",
    "Xtrain_norm = StS.transform(Xtrain)\n",
    "Xtest_norm = StS.transform(Xtest)\n",
    "\n",
    "fit(Xtrain_norm, Ytrain, epochs=10000, eta=0.1, reset=True)\n",
    "matrix(predictAll(Xtest_norm), Ytest)"
   ],
   "metadata": {
    "collapsed": false,
    "pycharm": {
     "name": "#%%\n"
    }
   }
  }
 ],
 "metadata": {
  "kernelspec": {
   "display_name": "Python 3",
   "language": "python",
   "name": "python3"
  },
  "language_info": {
   "codemirror_mode": {
    "name": "ipython",
    "version": 2
   },
   "file_extension": ".py",
   "mimetype": "text/x-python",
   "name": "python",
   "nbconvert_exporter": "python",
   "pygments_lexer": "ipython2",
   "version": "2.7.6"
  }
 },
 "nbformat": 4,
 "nbformat_minor": 0
}