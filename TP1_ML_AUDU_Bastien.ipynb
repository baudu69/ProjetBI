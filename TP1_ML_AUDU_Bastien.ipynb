{
 "cells": [
  {
   "cell_type": "code",
   "execution_count": 1,
   "metadata": {
    "collapsed": true,
    "pycharm": {
     "name": "#%%\n"
    }
   },
   "outputs": [],
   "source": [
    "import numpy as np\n",
    "np.set_printoptions(threshold=10000,suppress=True)\n",
    "import pandas as pd\n",
    "import warnings\n",
    "import matplotlib\n",
    "import matplotlib.pyplot as plt\n",
    "from sklearn.model_selection import train_test_split\n",
    "warnings.filterwarnings('ignore')\n",
    "from sklearn.neural_network import MLPClassifier\n",
    "from sklearn.preprocessing import StandardScaler"
   ]
  },
  {
   "cell_type": "markdown",
   "source": [
    "## Chargement des données"
   ],
   "metadata": {
    "collapsed": false,
    "pycharm": {
     "name": "#%% md\n"
    }
   }
  },
  {
   "cell_type": "code",
   "execution_count": 2,
   "outputs": [],
   "source": [
    "iris=pd.read_csv('./iris.txt', sep='\\t', header=None)"
   ],
   "metadata": {
    "collapsed": false,
    "pycharm": {
     "name": "#%%\n"
    }
   }
  },
  {
   "cell_type": "code",
   "execution_count": 3,
   "outputs": [],
   "source": [
    "X=iris.iloc[:,:-1].values\n",
    "Y=iris.iloc[:, -1].values"
   ],
   "metadata": {
    "collapsed": false,
    "pycharm": {
     "name": "#%%\n"
    }
   }
  },
  {
   "cell_type": "code",
   "execution_count": 4,
   "outputs": [],
   "source": [
    "\n",
    "Xtrain, Xtest, Ytrain, Ytest = train_test_split(X, Y, test_size = 1/3, random_state = 1)"
   ],
   "metadata": {
    "collapsed": false,
    "pycharm": {
     "name": "#%%\n"
    }
   }
  },
  {
   "cell_type": "code",
   "execution_count": 5,
   "outputs": [],
   "source": [
    "class Perc:\n",
    "    def __init__(self, input_size=4):\n",
    "        self.input_size = input_size\n",
    "        self.weight = np.random.rand(1, input_size)\n",
    "\n",
    "    def predict(self, x):\n",
    "        return np.dot(self.weight, x)\n",
    "\n",
    "    def reset(self):\n",
    "        self.weight = np.random.rand(1, self.input_size)"
   ],
   "metadata": {
    "collapsed": false,
    "pycharm": {
     "name": "#%%\n"
    }
   }
  },
  {
   "cell_type": "code",
   "execution_count": 6,
   "outputs": [],
   "source": [
    "P1 = Perc()\n",
    "P2 = Perc()\n",
    "P3 = Perc()"
   ],
   "metadata": {
    "collapsed": false,
    "pycharm": {
     "name": "#%%\n"
    }
   }
  },
  {
   "cell_type": "code",
   "execution_count": 7,
   "outputs": [],
   "source": [
    "def predict(XDeTest):\n",
    "    YPred1 = P1.predict(XDeTest)\n",
    "    YPred2 = P2.predict(XDeTest)\n",
    "    YPred3 = P3.predict(XDeTest)\n",
    "    proba = np.array([YPred1, YPred2, YPred3])\n",
    "    algo = proba.argmax()+1\n",
    "    return algo\n",
    "\n",
    "def predictAll(XALL):\n",
    "    ret = np.zeros(len(XALL))\n",
    "    for i in range(0, len(XALL)):\n",
    "        ret[i] = predict(XALL[i])\n",
    "    return ret\n",
    "\n",
    "\n",
    "def fit(XdeTrain, YDeTrain, epochs=500, eta=0.1, reset=False):\n",
    "    if reset:\n",
    "        P1.reset()\n",
    "        P2.reset()\n",
    "        P3.reset()\n",
    "    for epoch in range(0, epochs):\n",
    "        for i in range(len(XdeTrain)):\n",
    "            donneeX = XdeTrain[i]\n",
    "            donneeY = YDeTrain[i]\n",
    "\n",
    "            Y1 = P1.predict(donneeX)\n",
    "            Y2 = P2.predict(donneeX)\n",
    "            Y3 = P3.predict(donneeX)\n",
    "\n",
    "            if donneeY == 1:\n",
    "                if Y1 <=0 :\n",
    "                    P1.weight += eta*donneeX\n",
    "                if Y2 >= 0:\n",
    "                    P2.weight -= eta*donneeX\n",
    "                if Y3 >= 0:\n",
    "                    P3.weight -= eta*donneeX\n",
    "\n",
    "            if donneeY == 2:\n",
    "                if Y2 <= 0:\n",
    "                    P2.weight += eta*donneeX\n",
    "                if Y1 >= 0:\n",
    "                    P1.weight -= eta*donneeX\n",
    "                if Y3 >= 0:\n",
    "                    P3.weight -= eta*donneeX\n",
    "\n",
    "            if donneeY == 3:\n",
    "                if Y3 <= 0 :\n",
    "                    P3.weight += eta*donneeX\n",
    "                if Y2 >= 0:\n",
    "                    P2.weight -= eta*donneeX\n",
    "                if Y1 >= 0:\n",
    "                    P1.weight -= eta*donneeX\n"
   ],
   "metadata": {
    "collapsed": false,
    "pycharm": {
     "name": "#%%\n"
    }
   }
  },
  {
   "cell_type": "code",
   "execution_count": 8,
   "outputs": [],
   "source": [
    "from sklearn.metrics import confusion_matrix, accuracy_score, precision_score, recall_score, ConfusionMatrixDisplay\n",
    "def matrix(YPred, YTest):\n",
    "    cm = confusion_matrix(YTest, YPred)\n",
    "    disp = ConfusionMatrixDisplay(confusion_matrix=cm)\n",
    "    disp.plot()\n",
    "    plt.show()\n",
    "    print(\"Accuracy : \" + str(accuracy_score(y_true=YTest, y_pred=YPred)))\n",
    "    print(\"Precision 1 : \" + str(precision_score(y_true=YTest, y_pred=YPred, average=None)[0]))\n",
    "    print(\"Precision 2 : \" + str(precision_score(y_true=YTest, y_pred=YPred, average=None)[1]))\n",
    "    print(\"Precision 3 : \" + str(precision_score(y_true=YTest, y_pred=YPred, average=None)[2]))\n",
    "    print(\"Recall 1 : \" + str(recall_score(y_true=YTest, y_pred=YPred, average=None)[0]))\n",
    "    print(\"Recall 2 : \" + str(recall_score(y_true=YTest, y_pred=YPred, average=None)[1]))\n",
    "    print(\"Recall 3 : \" + str(recall_score(y_true=YTest, y_pred=YPred, average=None)[2]))"
   ],
   "metadata": {
    "collapsed": false,
    "pycharm": {
     "name": "#%%\n"
    }
   }
  },
  {
   "cell_type": "code",
   "execution_count": 9,
   "outputs": [
    {
     "data": {
      "text/plain": "<Figure size 640x480 with 2 Axes>",
      "image/png": "[encoded data removed]"
     },
     "metadata": {},
     "output_type": "display_data"
    },
    {
     "name": "stdout",
     "output_type": "stream",
     "text": [
      "Accuracy : 0.96\n",
      "Precision 1 : 1.0\n",
      "Precision 2 : 0.9473684210526315\n",
      "Precision 3 : 0.9285714285714286\n",
      "Recall 1 : 1.0\n",
      "Recall 2 : 0.9473684210526315\n",
      "Recall 3 : 0.9285714285714286\n"
     ]
    }
   ],
   "source": [
    "fit(Xtrain, Ytrain, epochs=1000, eta=0.01, reset=True)\n",
    "matrix(predictAll(Xtest), Ytest)"
   ],
   "metadata": {
    "collapsed": false,
    "pycharm": {
     "name": "#%%\n"
    }
   }
  },
  {
   "cell_type": "markdown",
   "source": [
    "### Normalisation des données"
   ],
   "metadata": {
    "collapsed": false,
    "pycharm": {
     "name": "#%% md\n"
    }
   }
  },
  {
   "cell_type": "code",
   "execution_count": 10,
   "outputs": [
    {
     "data": {
      "text/plain": "<Figure size 640x480 with 2 Axes>",
      "image/png": "[encoded data removed]"
     },
     "metadata": {},
     "output_type": "display_data"
    },
    {
     "name": "stdout",
     "output_type": "stream",
     "text": [
      "Accuracy : 0.66\n",
      "Precision 1 : 0.9444444444444444\n",
      "Precision 2 : 0.5333333333333333\n",
      "Precision 3 : 0.0\n",
      "Recall 1 : 1.0\n",
      "Recall 2 : 0.8421052631578947\n",
      "Recall 3 : 0.0\n"
     ]
    }
   ],
   "source": [
    "SS = StandardScaler()\n",
    "SS.fit(Xtrain)\n",
    "Xtrain_norm = SS.transform(Xtrain)\n",
    "Xtest_norm = SS.transform(Xtest)\n",
    "\n",
    "fit(Xtrain_norm, Ytrain, epochs=10, eta=0.0001, reset=True)\n",
    "matrix(predictAll(Xtest_norm), Ytest)"
   ],
   "metadata": {
    "collapsed": false,
    "pycharm": {
     "name": "#%%\n"
    }
   }
  },
  {
   "cell_type": "code",
   "execution_count": 11,
   "outputs": [
    {
     "data": {
      "text/plain": "<Figure size 640x480 with 2 Axes>",
      "image/png": "[encoded data removed]"
     },
     "metadata": {},
     "output_type": "display_data"
    },
    {
     "name": "stdout",
     "output_type": "stream",
     "text": [
      "Accuracy : 0.92\n",
      "Precision 1 : 1.0\n",
      "Precision 2 : 1.0\n",
      "Precision 3 : 0.7777777777777778\n",
      "Recall 1 : 1.0\n",
      "Recall 2 : 0.7894736842105263\n",
      "Recall 3 : 1.0\n"
     ]
    }
   ],
   "source": [
    "MLP = MLPClassifier(random_state=1)\n",
    "MLP.fit(Xtrain, Ytrain)\n",
    "YMLP = MLP.predict(Xtest)\n",
    "matrix(YMLP, Ytest)"
   ],
   "metadata": {
    "collapsed": false,
    "pycharm": {
     "name": "#%%\n"
    }
   }
  },
  {
   "cell_type": "markdown",
   "source": [
    "# LSUN"
   ],
   "metadata": {
    "collapsed": false,
    "pycharm": {
     "name": "#%% md\n"
    }
   }
  },
  {
   "cell_type": "code",
   "execution_count": 12,
   "outputs": [],
   "source": [
    "lsun = pd.read_csv('./Lsun.txt', sep='\\t', header=None)\n",
    "Xlsun = lsun.iloc[:, :-1].values\n",
    "Ylsun = lsun.iloc[:, -1].values\n",
    "\n",
    "Xlsuntrain, Xlsuntest, Ylsuntrain, Ylsuntest = train_test_split(Xlsun, Ylsun, test_size=1 / 3, random_state=1)"
   ],
   "metadata": {
    "collapsed": false,
    "pycharm": {
     "name": "#%%\n"
    }
   }
  },
  {
   "cell_type": "code",
   "execution_count": 13,
   "outputs": [],
   "source": [
    "#transformation\n",
    "SS = StandardScaler()\n",
    "SS.fit(Xlsuntrain)\n",
    "Xsun_train_norm = SS.transform(Xlsuntrain)\n",
    "Xsun_test_norm = SS.transform(Xlsuntest)"
   ],
   "metadata": {
    "collapsed": false,
    "pycharm": {
     "name": "#%%\n"
    }
   }
  },
  {
   "cell_type": "code",
   "execution_count": 14,
   "outputs": [],
   "source": [
    "P1 = Perc(input_size=2)\n",
    "P2 = Perc(input_size=2)\n",
    "P3 = Perc(input_size=2)"
   ],
   "metadata": {
    "collapsed": false,
    "pycharm": {
     "name": "#%%\n"
    }
   }
  },
  {
   "cell_type": "code",
   "execution_count": 17,
   "outputs": [
    {
     "data": {
      "text/plain": "<Figure size 640x480 with 2 Axes>",
      "image/png": "[encoded data removed]"
     },
     "metadata": {},
     "output_type": "display_data"
    },
    {
     "name": "stdout",
     "output_type": "stream",
     "text": [
      "Accuracy : 0.8208955223880597\n",
      "Precision 1 : 0.9722222222222222\n",
      "Precision 2 : 0.8222222222222222\n",
      "Precision 3 : 0.7169811320754716\n",
      "Recall 1 : 0.6140350877192983\n",
      "Recall 2 : 0.9736842105263158\n",
      "Recall 3 : 0.9743589743589743\n"
     ]
    }
   ],
   "source": [
    "fit(Xlsuntrain, Ylsuntrain, epochs=500, eta=0.01, reset=True)\n",
    "matrix(predictAll(Xlsuntest), Ylsuntest)"
   ],
   "metadata": {
    "collapsed": false,
    "pycharm": {
     "name": "#%%\n"
    }
   }
  }
 ],
 "metadata": {
  "kernelspec": {
   "display_name": "Python 3",
   "language": "python",
   "name": "python3"
  },
  "language_info": {
   "codemirror_mode": {
    "name": "ipython",
    "version": 2
   },
   "file_extension": ".py",
   "mimetype": "text/x-python",
   "name": "python",
   "nbconvert_exporter": "python",
   "pygments_lexer": "ipython2",
   "version": "2.7.6"
  }
 },
 "nbformat": 4,
 "nbformat_minor": 0
}