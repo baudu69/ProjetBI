{
 "cells": [
  {
   "cell_type": "code",
   "execution_count": 1,
   "metadata": {
    "collapsed": true,
    "pycharm": {
     "name": "#%%\n"
    }
   },
   "outputs": [],
   "source": [
    "import numpy as np\n",
    "np.set_printoptions(threshold=10000,suppress=True)\n",
    "import pandas as pd\n",
    "import warnings\n",
    "import matplotlib.pyplot as plt\n",
    "warnings.filterwarnings('ignore')\n",
    "import torch"
   ]
  },
  {
   "cell_type": "markdown",
   "source": [
    "## Traitement des données de base"
   ],
   "metadata": {
    "collapsed": false,
    "pycharm": {
     "name": "#%% md\n"
    }
   }
  },
  {
   "cell_type": "code",
   "execution_count": 2,
   "outputs": [],
   "source": [
    "def traitementCSVTemperature(fichier):\n",
    "    data = pd.read_csv(fichier,sep=';', header=0)\n",
    "    data = data[['numer_sta','date','t']]\n",
    "    data['date'] = pd.to_datetime(data['date'], format='%Y%m%d%H%M%S', utc=True)\n",
    "    data['heure'] = data['date'].dt.hour\n",
    "    data['date'] = data['date'].dt.date\n",
    "    #On enlève les stations qui n'ont pas un ID entre 7000 et 8000 (outre-mer)\n",
    "    data = data[data['numer_sta'] >= 7000]\n",
    "    data = data[data['numer_sta'] <= 8000]\n",
    "    data = data[data['t'] != 'mq']\n",
    "    data['t'] = data['t'].astype(float)\n",
    "    data['t'] = data['t'] - 273.15\n",
    "    data = data.groupby(['date','heure','numer_sta']).mean()\n",
    "    data = data.groupby(['date','heure']).mean()\n",
    "    data.reset_index(inplace=True)\n",
    "    return data"
   ],
   "metadata": {
    "collapsed": false,
    "pycharm": {
     "name": "#%%\n"
    }
   }
  },
  {
   "cell_type": "code",
   "execution_count": 3,
   "outputs": [],
   "source": [
    "def traitementCSVConsomation(fichier):\n",
    "    rte = pd.read_csv(fichier,sep=';', header=0)\n",
    "    rte['Date'] = pd.to_datetime(rte['Date'], dayfirst=True)\n",
    "    rte['Date'] = rte['Date'].dt.date\n",
    "    rte = rte[rte['Heures'].str.endswith('00')]\n",
    "    rte['Heures'] = rte['Heures'].str.slice(0,2)\n",
    "    rte['Heures'] = rte['Heures'].astype(int)\n",
    "    return rte"
   ],
   "metadata": {
    "collapsed": false,
    "pycharm": {
     "name": "#%%\n"
    }
   }
  },
  {
   "cell_type": "code",
   "execution_count": 4,
   "outputs": [],
   "source": [
    "def fusionData(rte,temperature):\n",
    "    data = pd.merge(rte,temperature,how='inner',left_on=['Date','Heures'],right_on=['date','heure'])\n",
    "    data = data.drop(['date','heure'],axis=1)\n",
    "    data = data.dropna()\n",
    "    return data"
   ],
   "metadata": {
    "collapsed": false,
    "pycharm": {
     "name": "#%%\n"
    }
   }
  },
  {
   "cell_type": "code",
   "execution_count": 5,
   "outputs": [],
   "source": [
    "def traitementAllCSVTemperatures(fichiers):\n",
    "    data = pd.DataFrame()\n",
    "    for fichier in fichiers:\n",
    "        temp = traitementCSVTemperature(fichier)\n",
    "        data = pd.concat([data,temp])\n",
    "    data = data.groupby(['date','heure']).mean()\n",
    "    data.reset_index(inplace=True)\n",
    "    return data"
   ],
   "metadata": {
    "collapsed": false,
    "pycharm": {
     "name": "#%%\n"
    }
   }
  },
  {
   "cell_type": "code",
   "execution_count": 6,
   "outputs": [],
   "source": [
    "fichiers_temperature = []\n",
    "for annee in [2015, 2016, 2017, 2018, 2019]:\n",
    "    for mois in range(1,13):\n",
    "        if mois < 10:\n",
    "            fichiers_temperature.append('temperatures/synop.'+str(annee)+'0'+str(mois)+'.csv')\n",
    "        else:\n",
    "            fichiers_temperature.append('temperatures/synop.'+str(annee)+str(mois)+'.csv')\n",
    "temperatures = traitementAllCSVTemperatures(fichiers_temperature)"
   ],
   "metadata": {
    "collapsed": false,
    "pycharm": {
     "name": "#%%\n"
    }
   }
  },
  {
   "cell_type": "code",
   "execution_count": 7,
   "outputs": [],
   "source": [
    "rte  = pd.DataFrame()\n",
    "for annee in [2015, 2016, 2017, 2018, 2019]:\n",
    "    rte = pd.concat([rte, traitementCSVConsomation('rte_'+str(annee)+'.csv')])"
   ],
   "metadata": {
    "collapsed": false,
    "pycharm": {
     "name": "#%%\n"
    }
   }
  },
  {
   "cell_type": "code",
   "execution_count": 8,
   "outputs": [],
   "source": [
    "data_total = fusionData(rte,temperatures)"
   ],
   "metadata": {
    "collapsed": false,
    "pycharm": {
     "name": "#%%\n"
    }
   }
  },
  {
   "cell_type": "code",
   "execution_count": 9,
   "outputs": [],
   "source": [
    "data_total.to_csv('data_total.csv',index=False, sep=';')"
   ],
   "metadata": {
    "collapsed": false,
    "pycharm": {
     "name": "#%%\n"
    }
   }
  },
  {
   "cell_type": "markdown",
   "source": [
    "## Traitement des données pour apprentissage"
   ],
   "metadata": {
    "collapsed": false,
    "pycharm": {
     "name": "#%% md\n"
    }
   }
  },
  {
   "cell_type": "code",
   "execution_count": 10,
   "outputs": [
    {
     "data": {
      "text/plain": "   Heures  mois         t  jour_semaine  jour_mois  Consommation\n0       0     1 -0.483333             3          1       74494.0\n1       3     1 -1.133333             3          1       68840.0\n2       6     1 -1.378571             3          1       64210.0",
      "text/html": "<div>\n<style scoped>\n    .dataframe tbody tr th:only-of-type {\n        vertical-align: middle;\n    }\n\n    .dataframe tbody tr th {\n        vertical-align: top;\n    }\n\n    .dataframe thead th {\n        text-align: right;\n    }\n</style>\n<table border=\"1\" class=\"dataframe\">\n  <thead>\n    <tr style=\"text-align: right;\">\n      <th></th>\n      <th>Heures</th>\n      <th>mois</th>\n      <th>t</th>\n      <th>jour_semaine</th>\n      <th>jour_mois</th>\n      <th>Consommation</th>\n    </tr>\n  </thead>\n  <tbody>\n    <tr>\n      <th>0</th>\n      <td>0</td>\n      <td>1</td>\n      <td>-0.483333</td>\n      <td>3</td>\n      <td>1</td>\n      <td>74494.0</td>\n    </tr>\n    <tr>\n      <th>1</th>\n      <td>3</td>\n      <td>1</td>\n      <td>-1.133333</td>\n      <td>3</td>\n      <td>1</td>\n      <td>68840.0</td>\n    </tr>\n    <tr>\n      <th>2</th>\n      <td>6</td>\n      <td>1</td>\n      <td>-1.378571</td>\n      <td>3</td>\n      <td>1</td>\n      <td>64210.0</td>\n    </tr>\n  </tbody>\n</table>\n</div>"
     },
     "execution_count": 10,
     "metadata": {},
     "output_type": "execute_result"
    }
   ],
   "source": [
    "def ajouterJourSemaine(data):\n",
    "    data['Date'] = pd.to_datetime(data['Date'], format='%Y-%m-%d')\n",
    "    data['jour_semaine'] = data['Date'].dt.dayofweek\n",
    "    data['jour_mois'] = data['Date'].dt.day\n",
    "    data['mois'] = data['Date'].dt.month\n",
    "    return data\n",
    "\n",
    "def enleverDate(data):\n",
    "    data = data.drop(['Date'],axis=1)\n",
    "    return data\n",
    "\n",
    "\n",
    "def swap_consommation(df):\n",
    "    col_list = list(df.columns)\n",
    "    x, y = col_list.index('Consommation'), col_list.index(df.columns[len(df.columns)-1])\n",
    "    col_list[y], col_list[x] = col_list[x], col_list[y]\n",
    "    df = df[col_list]\n",
    "    return df\n",
    "\n",
    "\n",
    "#On met la colonne 'Consommation' en dernière position\n",
    "\n",
    "data_apprentissage = ajouterJourSemaine(data_total)\n",
    "data_apprentissage = enleverDate(data_apprentissage)\n",
    "data_apprentissage = swap_consommation(data_apprentissage)\n",
    "\n",
    "data_apprentissage.to_csv('data_apprentissage_2018.csv',index=False, sep=';')\n",
    "data_apprentissage.head(3)"
   ],
   "metadata": {
    "collapsed": false,
    "pycharm": {
     "name": "#%%\n"
    }
   }
  },
  {
   "cell_type": "code",
   "execution_count": 11,
   "outputs": [],
   "source": [
    "from sklearn.model_selection import train_test_split\n",
    "x = data_apprentissage.iloc[:, :-1].values\n",
    "y = data_apprentissage.iloc[:, -1].values\n",
    "x_train, x_test, y_train, y_test = train_test_split(x,y,test_size=0.2)"
   ],
   "metadata": {
    "collapsed": false,
    "pycharm": {
     "name": "#%%\n"
    }
   }
  },
  {
   "cell_type": "code",
   "execution_count": 24,
   "outputs": [],
   "source": [
    "\n",
    "from sklearn.utils import shuffle\n",
    "\n",
    "device = torch.device(\"cuda\" if torch.cuda.is_available() else \"cpu\")\n",
    "\n",
    "class DataLoader(object):\n",
    "    def __init__(self, x, y, batch_size=128, shuffle=True):\n",
    "        self.x = x\n",
    "        self.y = y\n",
    "        self.batch_size = batch_size\n",
    "        self.shuffle = shuffle\n",
    "        self.start_idx = 0\n",
    "        self.data_size = x.shape[0]\n",
    "        if self.shuffle:\n",
    "            self.reset()\n",
    "\n",
    "    def reset(self):\n",
    "        self.x, self.y = shuffle(self.x, self.y, random_state=1)\n",
    "\n",
    "    def __iter__(self):\n",
    "        return self\n",
    "\n",
    "    def __next__(self):\n",
    "        if self.start_idx >= self.data_size:\n",
    "            if self.shuffle:\n",
    "                self.reset()\n",
    "            self.start_idx = 0\n",
    "            raise StopIteration\n",
    "\n",
    "        batch_x = self.x[self.start_idx:self.start_idx+self.batch_size]\n",
    "        batch_y = self.y[self.start_idx:self.start_idx+self.batch_size]\n",
    "\n",
    "        batch_x = torch.tensor(batch_x, dtype=torch.float, device=device)\n",
    "        batch_y = torch.tensor(batch_y, dtype=torch.float, device=device)\n",
    "\n",
    "        self.start_idx += self.batch_size\n",
    "\n",
    "        return batch_x, batch_y\n",
    "\n",
    "class MLP(torch.nn.Module):\n",
    "    def __init__(self, in_dim, caches, out_dim=1):\n",
    "        super(MLP, self).__init__()\n",
    "\n",
    "        assert out_dim==1, 'out_dim must be 1'\n",
    "        self.in_dim = in_dim\n",
    "        self.out_dim = out_dim\n",
    "        self.couches = torch.nn.ModuleList()\n",
    "        for i in range(len(caches)):\n",
    "            self.couches.append(torch.nn.Linear(self.in_dim if i == 0 else caches[i-1], caches[i]))\n",
    "        self.couches.append(torch.nn.Linear(caches[-1], self.out_dim))\n",
    "\n",
    "    def forward(self, x):\n",
    "        for i in range(len(self.couches)):\n",
    "            x = torch.relu(self.couches[i](x))\n",
    "        x=torch.squeeze(x)\n",
    "        return x\n",
    "\n",
    "def mae_loss(y_pred, y_true):\n",
    "    mae = torch.abs(y_true - y_pred).mean()\n",
    "    return mae\n",
    "\n",
    "\n",
    "def coef_determ(y_true, y_pred):\n",
    "    u = ((y_true - y_pred) ** 2).sum()\n",
    "    v = ((y_true - y_true.mean()) ** 2).sum()\n",
    "    return 1 - (u / v)\n",
    "\n",
    "\n",
    "def score_perceptron(x_test: np.array, y_test: np.array, model: MLP):\n",
    "    y_pred = model(torch.tensor(x_test, dtype=torch.float, device=device))\n",
    "    y_pred = y_pred.data.cpu().numpy()\n",
    "    return coef_determ(y_test, y_pred)"
   ],
   "metadata": {
    "collapsed": false,
    "pycharm": {
     "name": "#%%\n"
    }
   }
  },
  {
   "cell_type": "code",
   "execution_count": 13,
   "outputs": [],
   "source": [
    "train_dataloader = DataLoader(x_train, y_train, batch_size=4000)\n",
    "valid_dataloader = DataLoader(x_test, y_test, batch_size=4000)"
   ],
   "metadata": {
    "collapsed": false,
    "pycharm": {
     "name": "#%%\n"
    }
   }
  },
  {
   "cell_type": "code",
   "execution_count": 52,
   "outputs": [],
   "source": [
    "def fit(epochs=200, learning_rate=0.1, couche=None, show_loss=True, train_data:DataLoader=None, valid_data:DataLoader=None):\n",
    "    assert train_data is not None, 'Les données d\\'entrainement sont nulles'\n",
    "    assert valid_data is not None, 'Les données de validation sont nulles'\n",
    "    mlp = MLP(x_train[0].shape[0], couche, 1)\n",
    "    mlp.to(device)\n",
    "    optimizer = torch.optim.Adam(mlp.parameters(), lr=learning_rate)\n",
    "    best_loss = np.inf\n",
    "    valid_losses = []\n",
    "    for epoch in range(epochs):\n",
    "        mlp.train()\n",
    "        for batch_id, (batch_x, batch_y) in enumerate(train_data):\n",
    "            y_pred = mlp(batch_x)\n",
    "            loss = mae_loss(y_pred, batch_y)\n",
    "            optimizer.zero_grad()\n",
    "            loss.backward()\n",
    "            optimizer.step()\n",
    "        mlp.eval()\n",
    "        valid_loss = 0\n",
    "        num_batch = valid_data.data_size // valid_data.batch_size + 1\n",
    "\n",
    "        for batch_id, (batch_x, batch_y) in enumerate(valid_data):\n",
    "\n",
    "            y_pred = mlp(batch_x)\n",
    "            loss = mae_loss(y_pred, batch_y)\n",
    "            valid_loss += loss.item()\n",
    "\n",
    "        valid_loss /= num_batch\n",
    "        valid_losses.append(valid_loss)\n",
    "\n",
    "        if valid_loss < best_loss:\n",
    "            best_loss = valid_loss\n",
    "            torch.save(mlp.state_dict(), 'mlp.model')\n",
    "    if show_loss:\n",
    "        print(\"Best Loss is \" + str(best_loss))\n",
    "        plt.plot(valid_losses)\n",
    "        plt.show()\n",
    "    return mlp, best_loss"
   ],
   "metadata": {
    "collapsed": false,
    "pycharm": {
     "name": "#%%\n"
    }
   }
  },
  {
   "cell_type": "code",
   "execution_count": 55,
   "outputs": [],
   "source": [
    "def testParameters(couches, lr, nbTest=5, epochs=200, train_data=None, valid_data=None):\n",
    "    assert train_data is not None, 'Les données d\\'entrainement sont nulles'\n",
    "    assert valid_data is not None, 'Les données de validation sont nulles'\n",
    "    best = 0\n",
    "    best_parameters = None\n",
    "    for couche in couches:\n",
    "        for learning_rate in lr:\n",
    "            tot_loss = 0\n",
    "            for numero_test in range(nbTest):\n",
    "                mlp, best_loss = fit(couche=couche, learning_rate=learning_rate, show_loss=False, epochs=epochs, train_data=train_data, valid_data=valid_data)\n",
    "                score = score_perceptron(x_test, y_test,mlp)\n",
    "                print(f'Couche : {couche}, alpha : {learning_rate}, numéro {numero_test} : {score}')\n",
    "                tot_loss += score\n",
    "            tot_loss /= nbTest\n",
    "            if tot_loss > best:\n",
    "                best = tot_loss\n",
    "                best_parameters = [couche, learning_rate]\n",
    "    return best_parameters, best\n"
   ],
   "metadata": {
    "collapsed": false,
    "pycharm": {
     "name": "#%%\n"
    }
   }
  },
  {
   "cell_type": "code",
   "execution_count": 37,
   "outputs": [
    {
     "name": "stdout",
     "output_type": "stream",
     "text": [
      "Couche : [100, 100, 100], alpha : 0.01, numéro 0 : -20.488668565267243\n",
      "Couche : [100, 100, 100], alpha : 0.01, numéro 1 : -20.488668565267243\n",
      "Couche : [100, 100, 100], alpha : 0.01, numéro 2 : 0.9139294687294697\n",
      "Couche : [100, 100, 100], alpha : 0.01, numéro 3 : 0.9235447370158374\n",
      "Couche : [100, 100, 100], alpha : 0.01, numéro 4 : 0.9247028879815345\n",
      "Couche : [100, 100, 100], alpha : 0.001, numéro 0 : 0.8631657603936796\n",
      "Couche : [100, 100, 100], alpha : 0.001, numéro 1 : 0.8625539005826873\n",
      "Couche : [100, 100, 100], alpha : 0.001, numéro 2 : 0.8837428459543887\n",
      "Couche : [100, 100, 100], alpha : 0.001, numéro 3 : 0.8739751098049908\n",
      "Couche : [100, 100, 100], alpha : 0.001, numéro 4 : 0.8339213051412366\n",
      "Couche : [100, 100, 100], alpha : 0.1, numéro 0 : 0.9220870537135869\n",
      "Couche : [100, 100, 100], alpha : 0.1, numéro 1 : 0.9460905044881907\n",
      "Couche : [100, 100, 100], alpha : 0.1, numéro 2 : 0.9523363266987307\n",
      "Couche : [100, 100, 100], alpha : 0.1, numéro 3 : 0.9468077546011856\n",
      "Couche : [100, 100, 100], alpha : 0.1, numéro 4 : -20.488668565267243\n",
      "Couche : [100, 100, 100], alpha : 1.0, numéro 0 : -20.488668565267243\n",
      "Couche : [100, 100, 100], alpha : 1.0, numéro 1 : -20.488668565267243\n",
      "Couche : [100, 100, 100], alpha : 1.0, numéro 2 : -20.488668565267243\n",
      "Couche : [100, 100, 100], alpha : 1.0, numéro 3 : -20.488668565267243\n",
      "Couche : [100, 100, 100], alpha : 1.0, numéro 4 : 0.8209471291063022\n"
     ]
    }
   ],
   "source": [
    "best_parameters, best = testParameters([[100,100,100]], [0.01, 0.001, 0.1, 1.0], epochs=1000)"
   ],
   "metadata": {
    "collapsed": false,
    "pycharm": {
     "name": "#%%\n"
    }
   }
  },
  {
   "cell_type": "code",
   "execution_count": 28,
   "outputs": [
    {
     "data": {
      "text/plain": "0"
     },
     "execution_count": 28,
     "metadata": {},
     "output_type": "execute_result"
    }
   ],
   "source": [
    "best"
   ],
   "metadata": {
    "collapsed": false,
    "pycharm": {
     "name": "#%%\n"
    }
   }
  },
  {
   "cell_type": "code",
   "execution_count": 16,
   "outputs": [],
   "source": [
    "def predict(model, heure, temperature, jour_semaine, jour_mois, mois):\n",
    "    toPredict = np.array([[heure, mois, temperature, jour_semaine, jour_mois]])\n",
    "    toPredict = torch.tensor(toPredict,dtype=torch.float,device=device)\n",
    "    y_pred = model(toPredict)\n",
    "    y_pred = y_pred.data.cpu().numpy()\n",
    "    return y_pred"
   ],
   "metadata": {
    "collapsed": false,
    "pycharm": {
     "name": "#%%\n"
    }
   }
  },
  {
   "cell_type": "code",
   "execution_count": 48,
   "outputs": [
    {
     "name": "stdout",
     "output_type": "stream",
     "text": [
      "Best Loss is 1637.7705078125\n"
     ]
    },
    {
     "data": {
      "text/plain": "<Figure size 640x480 with 1 Axes>",
      "image/png": "[encoded data removed]"
     },
     "metadata": {},
     "output_type": "display_data"
    },
    {
     "data": {
      "text/plain": "0.9598768523014791"
     },
     "execution_count": 48,
     "metadata": {},
     "output_type": "execute_result"
    }
   ],
   "source": [
    "best_model, score = fit(4000, 0.1, [100, 100, 100], True, train_data=train_dataloader, valid_data=valid_dataloader)\n",
    "score_perceptron(x_test, y_test,best_model)"
   ],
   "metadata": {
    "collapsed": false,
    "pycharm": {
     "name": "#%%\n"
    }
   }
  },
  {
   "cell_type": "code",
   "execution_count": 18,
   "outputs": [],
   "source": [
    "from datetime import datetime\n",
    "\n",
    "\n",
    "def testDate(date_str: str, model: MLP):\n",
    "    date=datetime.strptime(date_str, '%d/%m/%y')\n",
    "    jour_semaine=date.weekday()\n",
    "    jour_mois=date.day\n",
    "    mois=date.month\n",
    "    data_test = ajouterJourSemaine(data_total)\n",
    "    data_test = swap_consommation(data_test)\n",
    "    data_test=data_test[data_test['Date']==date_str]\n",
    "    data_test = enleverDate(data_test)\n",
    "    data_predict = []\n",
    "    data_test.reset_index(inplace=True)\n",
    "    for i,ligne in data_test.iterrows():\n",
    "        data_predict.append(predict(model, ligne['Heures'], ligne['t'], jour_semaine, jour_mois, mois))\n",
    "    plt.plot(data_test['Consommation'])\n",
    "    plt.plot(data_predict)\n",
    "    plt.legend(['Consommation réelle', 'Consommation estimée'])\n",
    "    plt.show()"
   ],
   "metadata": {
    "collapsed": false,
    "pycharm": {
     "name": "#%%\n"
    }
   }
  },
  {
   "cell_type": "code",
   "execution_count": 49,
   "outputs": [
    {
     "data": {
      "text/plain": "<Figure size 640x480 with 1 Axes>",
      "image/png": "[encoded data removed]"
     },
     "metadata": {},
     "output_type": "display_data"
    }
   ],
   "source": [
    "testDate('28/02/19', best_model)"
   ],
   "metadata": {
    "collapsed": false,
    "pycharm": {
     "name": "#%%\n"
    }
   }
  },
  {
   "cell_type": "code",
   "execution_count": 51,
   "outputs": [
    {
     "data": {
      "text/plain": "0.9598768523014791"
     },
     "execution_count": 51,
     "metadata": {},
     "output_type": "execute_result"
    }
   ],
   "source": [
    "score_perceptron(x_test, y_test, best_model)"
   ],
   "metadata": {
    "collapsed": false,
    "pycharm": {
     "name": "#%%\n"
    }
   }
  },
  {
   "cell_type": "code",
   "execution_count": 57,
   "outputs": [],
   "source": [
    "torch.save(best_model, 'model_non_normalise.model')"
   ],
   "metadata": {
    "collapsed": false,
    "pycharm": {
     "name": "#%%\n"
    }
   }
  },
  {
   "cell_type": "markdown",
   "source": [
    "### Tentative avec des données normalisés"
   ],
   "metadata": {
    "collapsed": false,
    "pycharm": {
     "name": "#%% md\n"
    }
   }
  },
  {
   "cell_type": "code",
   "execution_count": 53,
   "outputs": [],
   "source": [
    "from sklearn.preprocessing import StandardScaler\n",
    "\n",
    "ss = StandardScaler()\n",
    "x_train_norm = ss.fit_transform(x_train)\n",
    "x_test_norm = ss.transform(x_test)\n",
    "\n",
    "train_norm_dataloader = DataLoader(x_train_norm, y_train, batch_size=4000)\n",
    "valid_norm_dataloader = DataLoader(x_test_norm, y_test, batch_size=4000)"
   ],
   "metadata": {
    "collapsed": false,
    "pycharm": {
     "name": "#%%\n"
    }
   }
  },
  {
   "cell_type": "code",
   "execution_count": 56,
   "outputs": [
    {
     "name": "stdout",
     "output_type": "stream",
     "text": [
      "Couche : [100, 100, 100], alpha : 0.01, numéro 0 : -172.90765800273056\n",
      "Couche : [100, 100, 100], alpha : 0.01, numéro 1 : -20.48865958513649\n",
      "Couche : [100, 100, 100], alpha : 0.01, numéro 2 : -757.5990943489606\n",
      "Couche : [100, 100, 100], alpha : 0.01, numéro 3 : -7.357448131890834\n",
      "Couche : [100, 100, 100], alpha : 0.01, numéro 4 : -105.99637765771348\n",
      "Couche : [100, 100, 100], alpha : 0.001, numéro 0 : -422.2333866432926\n",
      "Couche : [100, 100, 100], alpha : 0.001, numéro 1 : -444.14793876850393\n",
      "Couche : [100, 100, 100], alpha : 0.001, numéro 2 : -449.2382579284204\n",
      "Couche : [100, 100, 100], alpha : 0.001, numéro 3 : -428.4028175885355\n",
      "Couche : [100, 100, 100], alpha : 0.001, numéro 4 : -463.9926589602677\n",
      "Couche : [100, 100, 100], alpha : 0.1, numéro 0 : -120.05887678919751\n",
      "Couche : [100, 100, 100], alpha : 0.1, numéro 1 : -13.958612877575936\n",
      "Couche : [100, 100, 100], alpha : 0.1, numéro 2 : -60.32751506454705\n",
      "Couche : [100, 100, 100], alpha : 0.1, numéro 3 : -10.327689887892491\n",
      "Couche : [100, 100, 100], alpha : 0.1, numéro 4 : -13.470135611029129\n",
      "Couche : [100, 100, 100], alpha : 1.0, numéro 0 : -18.239760867774827\n",
      "Couche : [100, 100, 100], alpha : 1.0, numéro 1 : -20.488624206149968\n",
      "Couche : [100, 100, 100], alpha : 1.0, numéro 2 : -20.20910917252356\n",
      "Couche : [100, 100, 100], alpha : 1.0, numéro 3 : -715.1411250136271\n",
      "Couche : [100, 100, 100], alpha : 1.0, numéro 4 : -16.354600304402442\n",
      "Couche : [70, 70], alpha : 0.01, numéro 0 : -349.6729806131058\n",
      "Couche : [70, 70], alpha : 0.01, numéro 1 : -493.85140997385946\n",
      "Couche : [70, 70], alpha : 0.01, numéro 2 : -577.4160273942729\n",
      "Couche : [70, 70], alpha : 0.01, numéro 3 : -95.93136045439232\n",
      "Couche : [70, 70], alpha : 0.01, numéro 4 : -542.7798173779346\n",
      "Couche : [70, 70], alpha : 0.001, numéro 0 : -573.6565175475085\n",
      "Couche : [70, 70], alpha : 0.001, numéro 1 : -572.0796368706433\n",
      "Couche : [70, 70], alpha : 0.001, numéro 2 : -562.3640410873211\n",
      "Couche : [70, 70], alpha : 0.001, numéro 3 : -631.6965295734606\n",
      "Couche : [70, 70], alpha : 0.001, numéro 4 : -565.2445640241046\n",
      "Couche : [70, 70], alpha : 0.1, numéro 0 : -317.87571634454054\n",
      "Couche : [70, 70], alpha : 0.1, numéro 1 : -305.4029606222594\n",
      "Couche : [70, 70], alpha : 0.1, numéro 2 : -328.6650199626772\n",
      "Couche : [70, 70], alpha : 0.1, numéro 3 : -361.1878692146262\n",
      "Couche : [70, 70], alpha : 0.1, numéro 4 : -523.3593968496642\n",
      "Couche : [70, 70], alpha : 1.0, numéro 0 : -38.7828389617077\n",
      "Couche : [70, 70], alpha : 1.0, numéro 1 : -59.054552422811916\n",
      "Couche : [70, 70], alpha : 1.0, numéro 2 : -224.35200840177387\n",
      "Couche : [70, 70], alpha : 1.0, numéro 3 : -27.991324160287913\n",
      "Couche : [70, 70], alpha : 1.0, numéro 4 : -774.9503480277369\n",
      "Couche : [100, 100], alpha : 0.01, numéro 0 : -600.7592461815699\n",
      "Couche : [100, 100], alpha : 0.01, numéro 1 : -599.9887721736335\n",
      "Couche : [100, 100], alpha : 0.01, numéro 2 : -566.8404477057444\n",
      "Couche : [100, 100], alpha : 0.01, numéro 3 : -593.8444098264301\n",
      "Couche : [100, 100], alpha : 0.01, numéro 4 : -574.6424518971154\n",
      "Couche : [100, 100], alpha : 0.001, numéro 0 : -507.9814199847904\n",
      "Couche : [100, 100], alpha : 0.001, numéro 1 : -480.1483679409198\n",
      "Couche : [100, 100], alpha : 0.001, numéro 2 : -479.2706074402137\n",
      "Couche : [100, 100], alpha : 0.001, numéro 3 : -520.803395963008\n",
      "Couche : [100, 100], alpha : 0.001, numéro 4 : -524.3515273789194\n",
      "Couche : [100, 100], alpha : 0.1, numéro 0 : -355.4581310813951\n",
      "Couche : [100, 100], alpha : 0.1, numéro 1 : -351.3899721059715\n",
      "Couche : [100, 100], alpha : 0.1, numéro 2 : -254.15936672255629\n",
      "Couche : [100, 100], alpha : 0.1, numéro 3 : -643.9474307792065\n",
      "Couche : [100, 100], alpha : 0.1, numéro 4 : -306.49500190357776\n",
      "Couche : [100, 100], alpha : 1.0, numéro 0 : -389.745098860509\n",
      "Couche : [100, 100], alpha : 1.0, numéro 1 : -233.1509726312344\n",
      "Couche : [100, 100], alpha : 1.0, numéro 2 : -45.079057360226905\n",
      "Couche : [100, 100], alpha : 1.0, numéro 3 : -280.8073801088588\n",
      "Couche : [100, 100], alpha : 1.0, numéro 4 : -146.1638033688276\n"
     ]
    }
   ],
   "source": [
    "best_norm_parameters, best_model_norm = testParameters([[100,100,100], [70,70],[100,100]], [0.01, 0.001, 0.1, 1.0], epochs=1000,train_data=train_norm_dataloader,valid_data=valid_norm_dataloader)"
   ],
   "metadata": {
    "collapsed": false,
    "pycharm": {
     "name": "#%%\n"
    }
   }
  },
  {
   "cell_type": "code",
   "execution_count": 58,
   "outputs": [],
   "source": [
    "model_load = torch.load('model_non_normalise.model')"
   ],
   "metadata": {
    "collapsed": false,
    "pycharm": {
     "name": "#%%\n"
    }
   }
  },
  {
   "cell_type": "code",
   "execution_count": 62,
   "outputs": [
    {
     "data": {
      "text/plain": "<Figure size 640x480 with 1 Axes>",
      "image/png": "[encoded data removed]"
     },
     "metadata": {},
     "output_type": "display_data"
    }
   ],
   "source": [
    "testDate('03/02/15', model_load)"
   ],
   "metadata": {
    "collapsed": false,
    "pycharm": {
     "name": "#%%\n"
    }
   }
  }
 ],
 "metadata": {
  "kernelspec": {
   "display_name": "Python 3",
   "language": "python",
   "name": "python3"
  },
  "language_info": {
   "codemirror_mode": {
    "name": "ipython",
    "version": 2
   },
   "file_extension": ".py",
   "mimetype": "text/x-python",
   "name": "python",
   "nbconvert_exporter": "python",
   "pygments_lexer": "ipython2",
   "version": "2.7.6"
  }
 },
 "nbformat": 4,
 "nbformat_minor": 0
}