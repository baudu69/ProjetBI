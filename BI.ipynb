{
 "cells": [
  {
   "cell_type": "code",
   "execution_count": 2,
   "metadata": {
    "collapsed": true,
    "pycharm": {
     "name": "#%%\n"
    }
   },
   "outputs": [],
   "source": [
    "import numpy as np\n",
    "np.set_printoptions(threshold=10000,suppress=True)\n",
    "import pandas as pd\n",
    "import warnings\n",
    "import matplotlib.pyplot as plt\n",
    "warnings.filterwarnings('ignore')\n",
    "import torch"
   ]
  },
  {
   "cell_type": "markdown",
   "source": [
    "## Traitement des données de base"
   ],
   "metadata": {
    "collapsed": false,
    "pycharm": {
     "name": "#%% md\n"
    }
   }
  },
  {
   "cell_type": "code",
   "execution_count": 36,
   "outputs": [],
   "source": [
    "def traitementCSVTemperature(fichier):\n",
    "    data = pd.read_csv(fichier,sep=';', header=0)\n",
    "    data = data[['numer_sta','date','t']]\n",
    "    data['date'] = pd.to_datetime(data['date'], format='%Y%m%d%H%M%S', utc=True)\n",
    "    data['heure'] = data['date'].dt.hour\n",
    "    data['date'] = data['date'].dt.date\n",
    "    #On enlève les stations qui n'ont pas un ID entre 7000 et 8000 (outre-mer)\n",
    "    data = data[data['numer_sta'] >= 7000]\n",
    "    data = data[data['numer_sta'] <= 8000]\n",
    "    data = data[data['t'] != 'mq']\n",
    "    data['t'] = data['t'].astype(float)\n",
    "    data['t'] = data['t'] - 273.15\n",
    "    data = data.groupby(['date','heure','numer_sta']).mean()\n",
    "    data = data.groupby(['date','heure']).mean()\n",
    "    data.reset_index(inplace=True)\n",
    "    return data"
   ],
   "metadata": {
    "collapsed": false,
    "pycharm": {
     "name": "#%%\n"
    }
   }
  },
  {
   "cell_type": "code",
   "execution_count": 37,
   "outputs": [],
   "source": [
    "def traitementCSVConsomation(fichier):\n",
    "    rte = pd.read_csv(fichier,sep=';', header=0)\n",
    "    rte['Date'] = pd.to_datetime(rte['Date'], dayfirst=True)\n",
    "    rte['Date'] = rte['Date'].dt.date\n",
    "    rte = rte[rte['Heures'].str.endswith('00')]\n",
    "    rte['Heures'] = rte['Heures'].str.slice(0,2)\n",
    "    rte['Heures'] = rte['Heures'].astype(int)\n",
    "    return rte"
   ],
   "metadata": {
    "collapsed": false,
    "pycharm": {
     "name": "#%%\n"
    }
   }
  },
  {
   "cell_type": "code",
   "execution_count": 38,
   "outputs": [],
   "source": [
    "def fusionData(rte,temperature):\n",
    "    data = pd.merge(rte,temperature,how='inner',left_on=['Date','Heures'],right_on=['date','heure'])\n",
    "    data = data.drop(['date','heure'],axis=1)\n",
    "    data = data.dropna()\n",
    "    return data"
   ],
   "metadata": {
    "collapsed": false,
    "pycharm": {
     "name": "#%%\n"
    }
   }
  },
  {
   "cell_type": "code",
   "execution_count": 39,
   "outputs": [],
   "source": [
    "def traitementAllCSVTemperatures(fichiers):\n",
    "    data = pd.DataFrame()\n",
    "    for fichier in fichiers:\n",
    "        temp = traitementCSVTemperature(fichier)\n",
    "        data = pd.concat([data,temp])\n",
    "    data = data.groupby(['date','heure']).mean()\n",
    "    data.reset_index(inplace=True)\n",
    "    return data"
   ],
   "metadata": {
    "collapsed": false,
    "pycharm": {
     "name": "#%%\n"
    }
   }
  },
  {
   "cell_type": "code",
   "execution_count": 40,
   "outputs": [],
   "source": [
    "fichiers_temperature = []\n",
    "for annee in [2015, 2016, 2017, 2018, 2019]:\n",
    "    for mois in range(1,13):\n",
    "        if mois < 10:\n",
    "            fichiers_temperature.append('temperatures/synop.'+str(annee)+'0'+str(mois)+'.csv')\n",
    "        else:\n",
    "            fichiers_temperature.append('temperatures/synop.'+str(annee)+str(mois)+'.csv')\n",
    "temperatures = traitementAllCSVTemperatures(fichiers_temperature)"
   ],
   "metadata": {
    "collapsed": false,
    "pycharm": {
     "name": "#%%\n"
    }
   }
  },
  {
   "cell_type": "code",
   "execution_count": 41,
   "outputs": [],
   "source": [
    "rte  = pd.DataFrame()\n",
    "for annee in [2015, 2016, 2017, 2018, 2019]:\n",
    "    rte = pd.concat([rte, traitementCSVConsomation('rte_'+str(annee)+'.csv')])"
   ],
   "metadata": {
    "collapsed": false,
    "pycharm": {
     "name": "#%%\n"
    }
   }
  },
  {
   "cell_type": "code",
   "execution_count": 42,
   "outputs": [],
   "source": [
    "data_total = fusionData(rte,temperatures)"
   ],
   "metadata": {
    "collapsed": false,
    "pycharm": {
     "name": "#%%\n"
    }
   }
  },
  {
   "cell_type": "code",
   "execution_count": 43,
   "outputs": [],
   "source": [
    "data_total.to_csv('data_total.csv',index=False, sep=';')"
   ],
   "metadata": {
    "collapsed": false,
    "pycharm": {
     "name": "#%%\n"
    }
   }
  },
  {
   "cell_type": "markdown",
   "source": [
    "## Traitement des données pour apprentissage"
   ],
   "metadata": {
    "collapsed": false,
    "pycharm": {
     "name": "#%% md\n"
    }
   }
  },
  {
   "cell_type": "code",
   "execution_count": 44,
   "outputs": [
    {
     "data": {
      "text/plain": "   Heures  mois         t  jour_semaine  jour_mois  Consommation\n0       0     1 -0.483333             3          1       74494.0\n1       3     1 -1.133333             3          1       68840.0\n2       6     1 -1.378571             3          1       64210.0",
      "text/html": "<div>\n<style scoped>\n    .dataframe tbody tr th:only-of-type {\n        vertical-align: middle;\n    }\n\n    .dataframe tbody tr th {\n        vertical-align: top;\n    }\n\n    .dataframe thead th {\n        text-align: right;\n    }\n</style>\n<table border=\"1\" class=\"dataframe\">\n  <thead>\n    <tr style=\"text-align: right;\">\n      <th></th>\n      <th>Heures</th>\n      <th>mois</th>\n      <th>t</th>\n      <th>jour_semaine</th>\n      <th>jour_mois</th>\n      <th>Consommation</th>\n    </tr>\n  </thead>\n  <tbody>\n    <tr>\n      <th>0</th>\n      <td>0</td>\n      <td>1</td>\n      <td>-0.483333</td>\n      <td>3</td>\n      <td>1</td>\n      <td>74494.0</td>\n    </tr>\n    <tr>\n      <th>1</th>\n      <td>3</td>\n      <td>1</td>\n      <td>-1.133333</td>\n      <td>3</td>\n      <td>1</td>\n      <td>68840.0</td>\n    </tr>\n    <tr>\n      <th>2</th>\n      <td>6</td>\n      <td>1</td>\n      <td>-1.378571</td>\n      <td>3</td>\n      <td>1</td>\n      <td>64210.0</td>\n    </tr>\n  </tbody>\n</table>\n</div>"
     },
     "execution_count": 44,
     "metadata": {},
     "output_type": "execute_result"
    }
   ],
   "source": [
    "def ajouterJourSemaine(data):\n",
    "    data['Date'] = pd.to_datetime(data['Date'], format='%Y-%m-%d')\n",
    "    data['jour_semaine'] = data['Date'].dt.dayofweek\n",
    "    data['jour_mois'] = data['Date'].dt.day\n",
    "    data['mois'] = data['Date'].dt.month\n",
    "    return data\n",
    "\n",
    "def enleverDate(data):\n",
    "    data = data.drop(['Date'],axis=1)\n",
    "    return data\n",
    "\n",
    "\n",
    "def swap_consommation(df):\n",
    "    col_list = list(df.columns)\n",
    "    x, y = col_list.index('Consommation'), col_list.index(df.columns[len(df.columns)-1])\n",
    "    col_list[y], col_list[x] = col_list[x], col_list[y]\n",
    "    df = df[col_list]\n",
    "    return df\n",
    "\n",
    "\n",
    "#On met la colonne 'Consommation' en dernière position\n",
    "\n",
    "data_apprentissage = ajouterJourSemaine(data_total)\n",
    "data_apprentissage = enleverDate(data_apprentissage)\n",
    "data_apprentissage = swap_consommation(data_apprentissage)\n",
    "\n",
    "data_apprentissage.to_csv('data_apprentissage_2018.csv',index=False, sep=';')\n",
    "data_apprentissage.head(3)"
   ],
   "metadata": {
    "collapsed": false,
    "pycharm": {
     "name": "#%%\n"
    }
   }
  },
  {
   "cell_type": "code",
   "execution_count": 45,
   "outputs": [],
   "source": [
    "from sklearn.model_selection import train_test_split\n",
    "x = data_apprentissage.iloc[:, :-1].values\n",
    "y = data_apprentissage.iloc[:, -1].values\n",
    "x_train, x_test, y_train, y_test = train_test_split(x,y,test_size=0.2)"
   ],
   "metadata": {
    "collapsed": false,
    "pycharm": {
     "name": "#%%\n"
    }
   }
  },
  {
   "cell_type": "code",
   "execution_count": 91,
   "outputs": [],
   "source": [
    "\n",
    "from sklearn.utils import shuffle\n",
    "\n",
    "device = torch.device(\"cuda\" if torch.cuda.is_available() else \"cpu\")\n",
    "\n",
    "class DataLoader(object):\n",
    "    def __init__(self, x, y, batch_size=128, shuffle=True):\n",
    "        self.x = x\n",
    "        self.y = y\n",
    "        self.batch_size = batch_size\n",
    "        self.shuffle = shuffle\n",
    "        self.start_idx = 0\n",
    "        self.data_size = x.shape[0]\n",
    "        if self.shuffle:\n",
    "            self.reset()\n",
    "\n",
    "    def reset(self):\n",
    "        self.x, self.y = shuffle(self.x, self.y, random_state=1)\n",
    "\n",
    "    def __iter__(self):\n",
    "        return self\n",
    "\n",
    "    def __next__(self):\n",
    "        if self.start_idx >= self.data_size:\n",
    "            if self.shuffle:\n",
    "                self.reset()\n",
    "            self.start_idx = 0\n",
    "            raise StopIteration\n",
    "\n",
    "        batch_x = self.x[self.start_idx:self.start_idx+self.batch_size]\n",
    "        batch_y = self.y[self.start_idx:self.start_idx+self.batch_size]\n",
    "\n",
    "        batch_x = torch.tensor(batch_x, dtype=torch.float, device=device)\n",
    "        batch_y = torch.tensor(batch_y, dtype=torch.float, device=device)\n",
    "\n",
    "        self.start_idx += self.batch_size\n",
    "\n",
    "        return batch_x, batch_y\n",
    "\n",
    "class MLP(torch.nn.Module):\n",
    "    def __init__(self, in_dim, caches, out_dim=1):\n",
    "        super(MLP, self).__init__()\n",
    "\n",
    "        assert out_dim==1, 'out_dim must be 1'\n",
    "        self.in_dim = in_dim\n",
    "        self.out_dim = out_dim\n",
    "        self.couches = torch.nn.ModuleList()\n",
    "        for i in range(len(caches)):\n",
    "            self.couches.append(torch.nn.Linear(self.in_dim if i == 0 else caches[i-1], caches[i]))\n",
    "        self.couches.append(torch.nn.Linear(caches[-1], self.out_dim))\n",
    "\n",
    "    def forward(self, x):\n",
    "        for i in range(len(self.couches)):\n",
    "            x = torch.relu(self.couches[i](x))\n",
    "        x=torch.squeeze(x)\n",
    "        return x\n",
    "\n",
    "def mae_loss(y_pred, y_true):\n",
    "    mae = torch.abs(y_true - y_pred).mean()\n",
    "    return mae"
   ],
   "metadata": {
    "collapsed": false,
    "pycharm": {
     "name": "#%%\n"
    }
   }
  },
  {
   "cell_type": "code",
   "execution_count": 47,
   "outputs": [],
   "source": [
    "train_dataloader = DataLoader(x_train, y_train, batch_size=4000)\n",
    "valid_dataloader = DataLoader(x_test, y_test, batch_size=4000)"
   ],
   "metadata": {
    "collapsed": false,
    "pycharm": {
     "name": "#%%\n"
    }
   }
  },
  {
   "cell_type": "code",
   "execution_count": 58,
   "outputs": [],
   "source": [
    "def fit(epochs=200, learning_rate=0.1, couche=None, show_loss=True):\n",
    "    mlp = MLP(x_train[0].shape[0], couche, 1)\n",
    "    mlp.to(device)\n",
    "    optimizer = torch.optim.Adam(mlp.parameters(), lr=learning_rate)\n",
    "    best_loss = np.inf\n",
    "    valid_losses = []\n",
    "    for epoch in range(epochs):\n",
    "        mlp.train()\n",
    "        for batch_id, (batch_x, batch_y) in enumerate(train_dataloader):\n",
    "            y_pred = mlp(batch_x)\n",
    "            loss = mae_loss(y_pred, batch_y)\n",
    "            optimizer.zero_grad()\n",
    "            loss.backward()\n",
    "            optimizer.step()\n",
    "        mlp.eval()\n",
    "        valid_loss = 0\n",
    "        num_batch = valid_dataloader.data_size // valid_dataloader.batch_size + 1\n",
    "\n",
    "        for batch_id, (batch_x, batch_y) in enumerate(valid_dataloader):\n",
    "\n",
    "            y_pred = mlp(batch_x)\n",
    "            loss = mae_loss(y_pred, batch_y)\n",
    "            valid_loss += loss.item()\n",
    "\n",
    "        valid_loss /= num_batch\n",
    "        valid_losses.append(valid_loss)\n",
    "\n",
    "        if valid_loss < best_loss:\n",
    "            best_loss = valid_loss\n",
    "            torch.save(mlp.state_dict(), 'mlp.model')\n",
    "    if show_loss:\n",
    "        print(\"Best Loss is \" + str(best_loss))\n",
    "        plt.plot(valid_losses)\n",
    "        plt.show()\n",
    "    return mlp, best_loss"
   ],
   "metadata": {
    "collapsed": false,
    "pycharm": {
     "name": "#%%\n"
    }
   }
  },
  {
   "cell_type": "code",
   "execution_count": 59,
   "outputs": [],
   "source": [
    "nbTest = 10\n",
    "def testParameters(couches, lr):\n",
    "    best = np.inf\n",
    "    best_parameters = None\n",
    "    for couche in couches:\n",
    "        print(couche)\n",
    "        for learning_rate in lr:\n",
    "            tot_loss = 0\n",
    "            for numero_test in range(nbTest):\n",
    "                mlp, best_loss = fit(couche=couche, learning_rate=learning_rate, show_loss=False)\n",
    "                tot_loss += best_loss\n",
    "            tot_loss /= nbTest\n",
    "            if tot_loss < best:\n",
    "                best = tot_loss\n",
    "                best_parameters = [couche, learning_rate]\n",
    "    return best_parameters, best\n"
   ],
   "metadata": {
    "collapsed": false,
    "pycharm": {
     "name": "#%%\n"
    }
   }
  },
  {
   "cell_type": "code",
   "execution_count": 60,
   "outputs": [
    {
     "name": "stdout",
     "output_type": "stream",
     "text": [
      "[70, 70]\n",
      "[100, 100]\n",
      "[70, 70, 70]\n",
      "[100, 100, 100]\n"
     ]
    }
   ],
   "source": [
    "best_parameters, best = testParameters([[70, 70],[100, 100],[70, 70, 70],[100,100,100]], [1.0, 0.1, 0.01])"
   ],
   "metadata": {
    "collapsed": false,
    "pycharm": {
     "name": "#%%\n"
    }
   }
  },
  {
   "cell_type": "code",
   "execution_count": 71,
   "outputs": [
    {
     "data": {
      "text/plain": "[[100, 100, 100], 0.1]"
     },
     "execution_count": 71,
     "metadata": {},
     "output_type": "execute_result"
    }
   ],
   "source": [
    "best_parameters"
   ],
   "metadata": {
    "collapsed": false,
    "pycharm": {
     "name": "#%%\n"
    }
   }
  },
  {
   "cell_type": "code",
   "execution_count": 99,
   "outputs": [],
   "source": [
    "def predict(model, heure, temperature, jour_semaine, jour_mois, mois):\n",
    "    toPredict = np.array([[heure, mois, temperature, jour_semaine, jour_mois]])\n",
    "    toPredict = torch.tensor(toPredict,dtype=torch.float,device=device)\n",
    "    y_pred = model(toPredict)\n",
    "    y_pred = y_pred.data.cpu().numpy()\n",
    "    return y_pred"
   ],
   "metadata": {
    "collapsed": false,
    "pycharm": {
     "name": "#%%\n"
    }
   }
  },
  {
   "cell_type": "code",
   "execution_count": 106,
   "outputs": [
    {
     "name": "stdout",
     "output_type": "stream",
     "text": [
      "Best Loss is 3576.703125\n"
     ]
    },
    {
     "data": {
      "text/plain": "<Figure size 640x480 with 1 Axes>",
      "image/png": "[encoded data removed]"
     },
     "metadata": {},
     "output_type": "display_data"
    }
   ],
   "source": [
    "best_model, score = fit(100, 0.1, [70, 70, 70], True)"
   ],
   "metadata": {
    "collapsed": false,
    "pycharm": {
     "name": "#%%\n"
    }
   }
  },
  {
   "cell_type": "code",
   "execution_count": 117,
   "outputs": [
    {
     "name": "stdout",
     "output_type": "stream",
     "text": [
      "46635.57\n",
      "36630.19\n",
      "38381.004\n",
      "45938.71\n",
      "53308.504\n",
      "52289.605\n",
      "48285.824\n",
      "44870.082\n"
     ]
    },
    {
     "data": {
      "text/plain": "<Figure size 640x480 with 1 Axes>",
      "image/png": "[encoded data removed]"
     },
     "metadata": {},
     "output_type": "display_data"
    }
   ],
   "source": [
    "from datetime import datetime\n",
    "\n",
    "\n",
    "def testDate(date_str: str, model: MLP):\n",
    "    date=datetime.strptime(date_str, '%d/%m/%y')\n",
    "    jour_semaine=date.weekday()\n",
    "    jour_mois=date.day\n",
    "    mois=date.month\n",
    "    data_test = ajouterJourSemaine(data_total)\n",
    "    data_test = swap_consommation(data_test)\n",
    "    data_test=data_test[data_test['Date']==date_str]\n",
    "    data_test = enleverDate(data_test)\n",
    "    data_predict = []\n",
    "    data_test.reset_index(inplace=True)\n",
    "    for i,ligne in data_test.iterrows():\n",
    "        data_predict.append(predict(model, ligne['Heures'], ligne['t'], jour_semaine, jour_mois, mois))\n",
    "    plt.plot(data_test['Consommation'])\n",
    "    plt.plot(data_predict)\n",
    "    plt.legend(['Consommation réelle', 'Consommation estimée'])\n",
    "    plt.show()\n",
    "\n",
    "testDate('30/07/19', best_model)"
   ],
   "metadata": {
    "collapsed": false,
    "pycharm": {
     "name": "#%%\n"
    }
   }
  },
  {
   "cell_type": "code",
   "execution_count": null,
   "outputs": [],
   "source": [],
   "metadata": {
    "collapsed": false,
    "pycharm": {
     "name": "#%%\n"
    }
   }
  }
 ],
 "metadata": {
  "kernelspec": {
   "display_name": "Python 3",
   "language": "python",
   "name": "python3"
  },
  "language_info": {
   "codemirror_mode": {
    "name": "ipython",
    "version": 2
   },
   "file_extension": ".py",
   "mimetype": "text/x-python",
   "name": "python",
   "nbconvert_exporter": "python",
   "pygments_lexer": "ipython2",
   "version": "2.7.6"
  }
 },
 "nbformat": 4,
 "nbformat_minor": 0
}