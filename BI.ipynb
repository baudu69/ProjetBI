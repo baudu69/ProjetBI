{
 "cells": [
  {
   "cell_type": "code",
   "execution_count": 1,
   "metadata": {
    "collapsed": true,
    "pycharm": {
     "name": "#%%\n"
    }
   },
   "outputs": [],
   "source": [
    "import numpy as np\n",
    "np.set_printoptions(threshold=10000,suppress=True)\n",
    "import pandas as pd\n",
    "import warnings\n",
    "import matplotlib.pyplot as plt\n",
    "warnings.filterwarnings('ignore')\n",
    "import torch"
   ]
  },
  {
   "cell_type": "markdown",
   "source": [
    "## Traitement des données de base"
   ],
   "metadata": {
    "collapsed": false,
    "pycharm": {
     "name": "#%% md\n"
    }
   }
  },
  {
   "cell_type": "code",
   "execution_count": 41,
   "outputs": [],
   "source": [
    "def traitementCSVTemperature(fichier):\n",
    "    data = pd.read_csv(fichier,sep=';', header=0)\n",
    "    data = data[['numer_sta','date','t']]\n",
    "    data['date'] = pd.to_datetime(data['date'], format='%Y%m%d%H%M%S', utc=True)\n",
    "    data['heure'] = data['date'].dt.hour\n",
    "    data['date'] = data['date'].dt.date\n",
    "    #On enlève les stations qui n'ont pas un ID entre 7000 et 8000 (outre-mer)\n",
    "    data = data[data['numer_sta'] >= 7000]\n",
    "    data = data[data['numer_sta'] <= 8000]\n",
    "    data = data[data['t'] != 'mq']\n",
    "    data['t'] = data['t'].astype(float)\n",
    "    data['t'] = data['t'] - 273.15\n",
    "    data = data.groupby(['date','heure','numer_sta']).mean()\n",
    "    data = data.groupby(['date','heure']).mean()\n",
    "    data.reset_index(inplace=True)\n",
    "    return data"
   ],
   "metadata": {
    "collapsed": false,
    "pycharm": {
     "name": "#%%\n"
    }
   }
  },
  {
   "cell_type": "code",
   "execution_count": 42,
   "outputs": [],
   "source": [
    "def traitementCSVConsomation(fichier):\n",
    "    rte = pd.read_csv(fichier,sep=';', header=0)\n",
    "    rte['Date'] = pd.to_datetime(rte['Date'], dayfirst=True)\n",
    "    rte['Date'] = rte['Date'].dt.date\n",
    "    rte = rte[rte['Heures'].str.endswith('00')]\n",
    "    rte['Heures'] = rte['Heures'].str.slice(0,2)\n",
    "    rte['Heures'] = rte['Heures'].astype(int)\n",
    "    return rte"
   ],
   "metadata": {
    "collapsed": false,
    "pycharm": {
     "name": "#%%\n"
    }
   }
  },
  {
   "cell_type": "code",
   "execution_count": 43,
   "outputs": [],
   "source": [
    "def fusionData(rte,temperature):\n",
    "    data = pd.merge(rte,temperature,how='inner',left_on=['Date','Heures'],right_on=['date','heure'])\n",
    "    data = data.drop(['date','heure'],axis=1)\n",
    "    data = data.dropna()\n",
    "    return data"
   ],
   "metadata": {
    "collapsed": false,
    "pycharm": {
     "name": "#%%\n"
    }
   }
  },
  {
   "cell_type": "code",
   "execution_count": 44,
   "outputs": [],
   "source": [
    "def traitementAllCSVTemperatures(fichiers):\n",
    "    data = pd.DataFrame()\n",
    "    for fichier in fichiers:\n",
    "        temp = traitementCSVTemperature(fichier)\n",
    "        data = pd.concat([data,temp])\n",
    "    data = data.groupby(['date','heure']).mean()\n",
    "    data.reset_index(inplace=True)\n",
    "    return data"
   ],
   "metadata": {
    "collapsed": false,
    "pycharm": {
     "name": "#%%\n"
    }
   }
  },
  {
   "cell_type": "code",
   "execution_count": 45,
   "outputs": [],
   "source": [
    "fichiers_temperature = []\n",
    "for annee in [2015, 2016, 2017, 2018, 2019]:\n",
    "    for mois in range(1,13):\n",
    "        if mois < 10:\n",
    "            fichiers_temperature.append('temperatures/synop.'+str(annee)+'0'+str(mois)+'.csv')\n",
    "        else:\n",
    "            fichiers_temperature.append('temperatures/synop.'+str(annee)+str(mois)+'.csv')\n",
    "temperatures = traitementAllCSVTemperatures(fichiers_temperature)"
   ],
   "metadata": {
    "collapsed": false,
    "pycharm": {
     "name": "#%%\n"
    }
   }
  },
  {
   "cell_type": "code",
   "execution_count": 46,
   "outputs": [],
   "source": [
    "rte  = pd.DataFrame()\n",
    "for annee in [2015, 2016, 2017, 2018, 2019]:\n",
    "    rte = pd.concat([rte, traitementCSVConsomation('rte_'+str(annee)+'.csv')])"
   ],
   "metadata": {
    "collapsed": false,
    "pycharm": {
     "name": "#%%\n"
    }
   }
  },
  {
   "cell_type": "code",
   "execution_count": 47,
   "outputs": [],
   "source": [
    "data_total = fusionData(rte,temperatures)"
   ],
   "metadata": {
    "collapsed": false,
    "pycharm": {
     "name": "#%%\n"
    }
   }
  },
  {
   "cell_type": "code",
   "execution_count": 48,
   "outputs": [],
   "source": [
    "data_total.to_csv('data_total.csv',index=False, sep=';')"
   ],
   "metadata": {
    "collapsed": false,
    "pycharm": {
     "name": "#%%\n"
    }
   }
  },
  {
   "cell_type": "markdown",
   "source": [
    "## Traitement des données pour apprentissage"
   ],
   "metadata": {
    "collapsed": false,
    "pycharm": {
     "name": "#%% md\n"
    }
   }
  },
  {
   "cell_type": "code",
   "execution_count": 82,
   "outputs": [
    {
     "data": {
      "text/plain": "   Heures  jour_ferie         t  jour_semaine  jour_mois  mois  Consommation\n0       0           1 -0.483333             3          1     1       74494.0\n1       3           1 -1.133333             3          1     1       68840.0\n2       6           1 -1.378571             3          1     1       64210.0",
      "text/html": "<div>\n<style scoped>\n    .dataframe tbody tr th:only-of-type {\n        vertical-align: middle;\n    }\n\n    .dataframe tbody tr th {\n        vertical-align: top;\n    }\n\n    .dataframe thead th {\n        text-align: right;\n    }\n</style>\n<table border=\"1\" class=\"dataframe\">\n  <thead>\n    <tr style=\"text-align: right;\">\n      <th></th>\n      <th>Heures</th>\n      <th>jour_ferie</th>\n      <th>t</th>\n      <th>jour_semaine</th>\n      <th>jour_mois</th>\n      <th>mois</th>\n      <th>Consommation</th>\n    </tr>\n  </thead>\n  <tbody>\n    <tr>\n      <th>0</th>\n      <td>0</td>\n      <td>1</td>\n      <td>-0.483333</td>\n      <td>3</td>\n      <td>1</td>\n      <td>1</td>\n      <td>74494.0</td>\n    </tr>\n    <tr>\n      <th>1</th>\n      <td>3</td>\n      <td>1</td>\n      <td>-1.133333</td>\n      <td>3</td>\n      <td>1</td>\n      <td>1</td>\n      <td>68840.0</td>\n    </tr>\n    <tr>\n      <th>2</th>\n      <td>6</td>\n      <td>1</td>\n      <td>-1.378571</td>\n      <td>3</td>\n      <td>1</td>\n      <td>1</td>\n      <td>64210.0</td>\n    </tr>\n  </tbody>\n</table>\n</div>"
     },
     "execution_count": 82,
     "metadata": {},
     "output_type": "execute_result"
    }
   ],
   "source": [
    "def ajouterJourSemaine(data):\n",
    "    data['Date'] = pd.to_datetime(data['Date'], format='%Y-%m-%d')\n",
    "    data['jour_semaine'] = data['Date'].dt.dayofweek\n",
    "    data['jour_mois'] = data['Date'].dt.day\n",
    "    data['mois'] = data['Date'].dt.month\n",
    "    return data\n",
    "\n",
    "def enleverDate(data):\n",
    "    data = data.drop(['Date'],axis=1)\n",
    "    return data\n",
    "\n",
    "\n",
    "def swap_consommation(df):\n",
    "    col_list = list(df.columns)\n",
    "    x, y = col_list.index('Consommation'), col_list.index(df.columns[len(df.columns)-1])\n",
    "    col_list[y], col_list[x] = col_list[x], col_list[y]\n",
    "    df = df[col_list]\n",
    "    return df\n",
    "\n",
    "def ajoutJourFerie(df):\n",
    "    df['Date'] = pd.to_datetime(df['Date'], format='%Y-%m-%d')\n",
    "    df['jour_ferie'] = df['Date'].isin(pd.to_datetime(['2015-01-01','2015-04-03','2015-05-01','2015-05-08','2015-05-21','2015-05-25','2015-06-01','2015-07-14','2015-08-15','2015-11-01','2015-11-11','2015-12-25','2016-01-01','2016-03-25','2016-05-01','2016-05-05','2016-05-08','2016-05-16','2016-05-25','2016-06-01','2016-07-14','2016-08-15','2016-11-01','2016-11-11','2016-12-25','2017-01-01','2017-04-14','2017-05-01','2017-05-08','2017-05-25','2017-05-29','2017-06-01','2017-07-14','2017-08-15','2017-11-01','2017-11-11','2017-12-25','2018-01-01','2018-03-30','2018-05-01','2018-05-08','2018-05-10','2018-05-21','2018-05-25','2018-06-01','2018-07-14','2018-08-15','2018-11-01','2018-11-11','2018-12-25','2019-01-01','2019-04-19','2019-05-01','2019-05-08','2019-05-30','2019-05-31','2019-06-01','2019-07-14','2019-08-15','2019-11-01','2019-11-11','2019-12-25']))\n",
    "    df['jour_ferie'] = df['jour_ferie'].astype(int)\n",
    "    return df\n",
    "\n",
    "\n",
    "#On met la colonne 'Consommation' en dernière position\n",
    "\n",
    "data_apprentissage = ajouterJourSemaine(data_total)\n",
    "data_apprentissage = ajoutJourFerie(data_apprentissage)\n",
    "data_apprentissage = enleverDate(data_apprentissage)\n",
    "data_apprentissage = swap_consommation(data_apprentissage)\n",
    "\n",
    "data_apprentissage.to_csv('data_apprentissage_2018.csv',index=False, sep=';')\n",
    "data_apprentissage.head(3)"
   ],
   "metadata": {
    "collapsed": false,
    "pycharm": {
     "name": "#%%\n"
    }
   }
  },
  {
   "cell_type": "code",
   "execution_count": 83,
   "outputs": [],
   "source": [
    "from sklearn.model_selection import train_test_split\n",
    "x = data_apprentissage.iloc[:, :-1].values\n",
    "y = data_apprentissage.iloc[:, -1].values\n",
    "x_train, x_test, y_train, y_test = train_test_split(x,y,test_size=0.2)"
   ],
   "metadata": {
    "collapsed": false,
    "pycharm": {
     "name": "#%%\n"
    }
   }
  },
  {
   "cell_type": "code",
   "execution_count": 84,
   "outputs": [],
   "source": [
    "\n",
    "from sklearn.utils import shuffle\n",
    "\n",
    "device = torch.device(\"cuda\" if torch.cuda.is_available() else \"cpu\")\n",
    "\n",
    "class DataLoader(object):\n",
    "    def __init__(self, x, y, batch_size=128, shuffle=True):\n",
    "        self.x = x\n",
    "        self.y = y\n",
    "        self.batch_size = batch_size\n",
    "        self.shuffle = shuffle\n",
    "        self.start_idx = 0\n",
    "        self.data_size = x.shape[0]\n",
    "        if self.shuffle:\n",
    "            self.reset()\n",
    "\n",
    "    def reset(self):\n",
    "        self.x, self.y = shuffle(self.x, self.y, random_state=1)\n",
    "\n",
    "    def __iter__(self):\n",
    "        return self\n",
    "\n",
    "    def __next__(self):\n",
    "        if self.start_idx >= self.data_size:\n",
    "            if self.shuffle:\n",
    "                self.reset()\n",
    "            self.start_idx = 0\n",
    "            raise StopIteration\n",
    "\n",
    "        batch_x = self.x[self.start_idx:self.start_idx+self.batch_size]\n",
    "        batch_y = self.y[self.start_idx:self.start_idx+self.batch_size]\n",
    "\n",
    "        batch_x = torch.tensor(batch_x, dtype=torch.float, device=device)\n",
    "        batch_y = torch.tensor(batch_y, dtype=torch.float, device=device)\n",
    "\n",
    "        self.start_idx += self.batch_size\n",
    "\n",
    "        return batch_x, batch_y\n",
    "\n",
    "class MLP(torch.nn.Module):\n",
    "    def __init__(self, in_dim, caches, out_dim=1):\n",
    "        super(MLP, self).__init__()\n",
    "\n",
    "        assert out_dim==1, 'out_dim must be 1'\n",
    "        self.in_dim = in_dim\n",
    "        self.out_dim = out_dim\n",
    "        self.couches = torch.nn.ModuleList()\n",
    "        for i in range(len(caches)):\n",
    "            self.couches.append(torch.nn.Linear(self.in_dim if i == 0 else caches[i-1], caches[i]))\n",
    "        self.couches.append(torch.nn.Linear(caches[-1], self.out_dim))\n",
    "\n",
    "    def forward(self, x):\n",
    "        for i in range(len(self.couches)):\n",
    "            x = torch.relu(self.couches[i](x))\n",
    "        x=torch.squeeze(x)\n",
    "        return x\n",
    "\n",
    "def mae_loss(y_pred, y_true):\n",
    "    mae = torch.abs(y_true - y_pred).mean()\n",
    "    return mae\n",
    "\n",
    "\n",
    "def coef_determ(y_true, y_pred):\n",
    "    u = ((y_true - y_pred) ** 2).sum()\n",
    "    v = ((y_true - y_true.mean()) ** 2).sum()\n",
    "    return 1 - (u / v)\n",
    "\n",
    "\n",
    "def score_perceptron(x_test: np.array, y_test: np.array, model: MLP):\n",
    "    y_pred = model(torch.tensor(x_test, dtype=torch.float, device=device))\n",
    "    y_pred = y_pred.data.cpu().numpy()\n",
    "    return coef_determ(y_test, y_pred)"
   ],
   "metadata": {
    "collapsed": false,
    "pycharm": {
     "name": "#%%\n"
    }
   }
  },
  {
   "cell_type": "code",
   "execution_count": 85,
   "outputs": [],
   "source": [
    "train_dataloader = DataLoader(x_train, y_train, batch_size=4000)\n",
    "valid_dataloader = DataLoader(x_test, y_test, batch_size=4000)"
   ],
   "metadata": {
    "collapsed": false,
    "pycharm": {
     "name": "#%%\n"
    }
   }
  },
  {
   "cell_type": "code",
   "execution_count": 53,
   "outputs": [],
   "source": [
    "def fit(epochs=200, learning_rate=0.1, couche=None, show_loss=True, train_data:DataLoader=None, valid_data:DataLoader=None):\n",
    "    assert train_data is not None, 'Les données d\\'entrainement sont nulles'\n",
    "    assert valid_data is not None, 'Les données de validation sont nulles'\n",
    "    mlp = MLP(x_train[0].shape[0], couche, 1)\n",
    "    mlp.to(device)\n",
    "    optimizer = torch.optim.Adam(mlp.parameters(), lr=learning_rate)\n",
    "    best_loss = np.inf\n",
    "    valid_losses = []\n",
    "    for epoch in range(epochs):\n",
    "        mlp.train()\n",
    "        for batch_id, (batch_x, batch_y) in enumerate(train_data):\n",
    "            y_pred = mlp(batch_x)\n",
    "            loss = mae_loss(y_pred, batch_y)\n",
    "            optimizer.zero_grad()\n",
    "            loss.backward()\n",
    "            optimizer.step()\n",
    "        mlp.eval()\n",
    "        valid_loss = 0\n",
    "        num_batch = valid_data.data_size // valid_data.batch_size + 1\n",
    "\n",
    "        for batch_id, (batch_x, batch_y) in enumerate(valid_data):\n",
    "\n",
    "            y_pred = mlp(batch_x)\n",
    "            loss = mae_loss(y_pred, batch_y)\n",
    "            valid_loss += loss.item()\n",
    "\n",
    "        valid_loss /= num_batch\n",
    "        valid_losses.append(valid_loss)\n",
    "\n",
    "        if valid_loss < best_loss:\n",
    "            best_loss = valid_loss\n",
    "            torch.save(mlp.state_dict(), 'mlp.model')\n",
    "    if show_loss:\n",
    "        print(\"Best Loss is \" + str(best_loss))\n",
    "        plt.plot(valid_losses)\n",
    "        plt.show()\n",
    "    return mlp, best_loss"
   ],
   "metadata": {
    "collapsed": false,
    "pycharm": {
     "name": "#%%\n"
    }
   }
  },
  {
   "cell_type": "code",
   "execution_count": 54,
   "outputs": [],
   "source": [
    "def testParameters(couches, lr, nbTest=5, epochs=200, train_data=None, valid_data=None):\n",
    "    assert train_data is not None, 'Les données d\\'entrainement sont nulles'\n",
    "    assert valid_data is not None, 'Les données de validation sont nulles'\n",
    "    best = 0\n",
    "    best_parameters = None\n",
    "    for couche in couches:\n",
    "        for learning_rate in lr:\n",
    "            tot_loss = 0\n",
    "            for numero_test in range(nbTest):\n",
    "                mlp, best_loss = fit(couche=couche, learning_rate=learning_rate, show_loss=False, epochs=epochs, train_data=train_data, valid_data=valid_data)\n",
    "                score = score_perceptron(x_test, y_test,mlp)\n",
    "                print(f'Couche : {couche}, alpha : {learning_rate}, numéro {numero_test} : {score}')\n",
    "                tot_loss += score\n",
    "            tot_loss /= nbTest\n",
    "            if tot_loss > best:\n",
    "                best = tot_loss\n",
    "                best_parameters = [couche, learning_rate]\n",
    "    return best_parameters, best\n"
   ],
   "metadata": {
    "collapsed": false,
    "pycharm": {
     "name": "#%%\n"
    }
   }
  },
  {
   "cell_type": "code",
   "execution_count": 37,
   "outputs": [
    {
     "name": "stdout",
     "output_type": "stream",
     "text": [
      "Couche : [100, 100, 100], alpha : 0.01, numéro 0 : -20.488668565267243\n",
      "Couche : [100, 100, 100], alpha : 0.01, numéro 1 : -20.488668565267243\n",
      "Couche : [100, 100, 100], alpha : 0.01, numéro 2 : 0.9139294687294697\n",
      "Couche : [100, 100, 100], alpha : 0.01, numéro 3 : 0.9235447370158374\n",
      "Couche : [100, 100, 100], alpha : 0.01, numéro 4 : 0.9247028879815345\n",
      "Couche : [100, 100, 100], alpha : 0.001, numéro 0 : 0.8631657603936796\n",
      "Couche : [100, 100, 100], alpha : 0.001, numéro 1 : 0.8625539005826873\n",
      "Couche : [100, 100, 100], alpha : 0.001, numéro 2 : 0.8837428459543887\n",
      "Couche : [100, 100, 100], alpha : 0.001, numéro 3 : 0.8739751098049908\n",
      "Couche : [100, 100, 100], alpha : 0.001, numéro 4 : 0.8339213051412366\n",
      "Couche : [100, 100, 100], alpha : 0.1, numéro 0 : 0.9220870537135869\n",
      "Couche : [100, 100, 100], alpha : 0.1, numéro 1 : 0.9460905044881907\n",
      "Couche : [100, 100, 100], alpha : 0.1, numéro 2 : 0.9523363266987307\n",
      "Couche : [100, 100, 100], alpha : 0.1, numéro 3 : 0.9468077546011856\n",
      "Couche : [100, 100, 100], alpha : 0.1, numéro 4 : -20.488668565267243\n",
      "Couche : [100, 100, 100], alpha : 1.0, numéro 0 : -20.488668565267243\n",
      "Couche : [100, 100, 100], alpha : 1.0, numéro 1 : -20.488668565267243\n",
      "Couche : [100, 100, 100], alpha : 1.0, numéro 2 : -20.488668565267243\n",
      "Couche : [100, 100, 100], alpha : 1.0, numéro 3 : -20.488668565267243\n",
      "Couche : [100, 100, 100], alpha : 1.0, numéro 4 : 0.8209471291063022\n"
     ]
    }
   ],
   "source": [
    "best_parameters, best = testParameters([[100,100,100]], [0.01, 0.001, 0.1, 1.0], epochs=1000)"
   ],
   "metadata": {
    "collapsed": false,
    "pycharm": {
     "name": "#%%\n"
    }
   }
  },
  {
   "cell_type": "code",
   "execution_count": 28,
   "outputs": [
    {
     "data": {
      "text/plain": "0"
     },
     "execution_count": 28,
     "metadata": {},
     "output_type": "execute_result"
    }
   ],
   "source": [
    "best"
   ],
   "metadata": {
    "collapsed": false,
    "pycharm": {
     "name": "#%%\n"
    }
   }
  },
  {
   "cell_type": "code",
   "execution_count": 16,
   "outputs": [],
   "source": [
    "def predict(model, heure, temperature, jour_semaine, jour_mois, mois):\n",
    "    toPredict = np.array([[heure, mois, temperature, jour_semaine, jour_mois]])\n",
    "    toPredict = torch.tensor(toPredict,dtype=torch.float,device=device)\n",
    "    y_pred = model(toPredict)\n",
    "    y_pred = y_pred.data.cpu().numpy()\n",
    "    return y_pred"
   ],
   "metadata": {
    "collapsed": false,
    "pycharm": {
     "name": "#%%\n"
    }
   }
  },
  {
   "cell_type": "code",
   "execution_count": 86,
   "outputs": [
    {
     "name": "stdout",
     "output_type": "stream",
     "text": [
      "Best Loss is 1498.1805419921875\n"
     ]
    },
    {
     "data": {
      "text/plain": "<Figure size 640x480 with 1 Axes>",
      "image/png": "[encoded data removed]"
     },
     "metadata": {},
     "output_type": "display_data"
    },
    {
     "data": {
      "text/plain": "0.9628544133981237"
     },
     "execution_count": 86,
     "metadata": {},
     "output_type": "execute_result"
    }
   ],
   "source": [
    "best_model, score = fit(4000, 0.1, [100, 100, 100], True, train_data=train_dataloader, valid_data=valid_dataloader)\n",
    "score_perceptron(x_test, y_test,best_model)"
   ],
   "metadata": {
    "collapsed": false,
    "pycharm": {
     "name": "#%%\n"
    }
   }
  },
  {
   "cell_type": "code",
   "execution_count": 18,
   "outputs": [],
   "source": [
    "from datetime import datetime\n",
    "\n",
    "\n",
    "def testDate(date_str: str, model: MLP):\n",
    "    date=datetime.strptime(date_str, '%d/%m/%y')\n",
    "    jour_semaine=date.weekday()\n",
    "    jour_mois=date.day\n",
    "    mois=date.month\n",
    "    data_test = ajouterJourSemaine(data_total)\n",
    "    data_test = swap_consommation(data_test)\n",
    "    data_test=data_test[data_test['Date']==date_str]\n",
    "    data_test = enleverDate(data_test)\n",
    "    data_predict = []\n",
    "    data_test.reset_index(inplace=True)\n",
    "    for i,ligne in data_test.iterrows():\n",
    "        data_predict.append(predict(model, ligne['Heures'], ligne['t'], jour_semaine, jour_mois, mois))\n",
    "    plt.plot(data_test['Consommation'])\n",
    "    plt.plot(data_predict)\n",
    "    plt.legend(['Consommation réelle', 'Consommation estimée'])\n",
    "    plt.show()"
   ],
   "metadata": {
    "collapsed": false,
    "pycharm": {
     "name": "#%%\n"
    }
   }
  },
  {
   "cell_type": "code",
   "execution_count": 49,
   "outputs": [
    {
     "data": {
      "text/plain": "<Figure size 640x480 with 1 Axes>",
      "image/png": "[encoded data removed]"
     },
     "metadata": {},
     "output_type": "display_data"
    }
   ],
   "source": [
    "testDate('28/02/19', best_model)"
   ],
   "metadata": {
    "collapsed": false,
    "pycharm": {
     "name": "#%%\n"
    }
   }
  },
  {
   "cell_type": "code",
   "execution_count": 51,
   "outputs": [
    {
     "data": {
      "text/plain": "0.9598768523014791"
     },
     "execution_count": 51,
     "metadata": {},
     "output_type": "execute_result"
    }
   ],
   "source": [
    "score_perceptron(x_test, y_test, best_model)"
   ],
   "metadata": {
    "collapsed": false,
    "pycharm": {
     "name": "#%%\n"
    }
   }
  },
  {
   "cell_type": "code",
   "execution_count": 57,
   "outputs": [],
   "source": [
    "torch.save(best_model, 'model_non_normalise.model')"
   ],
   "metadata": {
    "collapsed": false,
    "pycharm": {
     "name": "#%%\n"
    }
   }
  },
  {
   "cell_type": "markdown",
   "source": [
    "### Tentative avec des données normalisés"
   ],
   "metadata": {
    "collapsed": false,
    "pycharm": {
     "name": "#%% md\n"
    }
   }
  },
  {
   "cell_type": "code",
   "execution_count": 53,
   "outputs": [],
   "source": [
    "from sklearn.preprocessing import StandardScaler\n",
    "\n",
    "ss = StandardScaler()\n",
    "x_train_norm = ss.fit_transform(x_train)\n",
    "x_test_norm = ss.transform(x_test)\n",
    "\n",
    "train_norm_dataloader = DataLoader(x_train_norm, y_train, batch_size=4000)\n",
    "valid_norm_dataloader = DataLoader(x_test_norm, y_test, batch_size=4000)"
   ],
   "metadata": {
    "collapsed": false,
    "pycharm": {
     "name": "#%%\n"
    }
   }
  },
  {
   "cell_type": "code",
   "execution_count": 63,
   "outputs": [
    {
     "name": "stdout",
     "output_type": "stream",
     "text": [
      "Couche : [50, 50], alpha : 0.01, numéro 0 : -467.33793017646053\n",
      "Couche : [50, 50], alpha : 0.01, numéro 1 : -483.03335062998076\n",
      "Couche : [50, 50], alpha : 0.01, numéro 2 : -526.6972298705258\n",
      "Couche : [50, 50], alpha : 0.01, numéro 3 : -559.3538915433753\n",
      "Couche : [50, 50], alpha : 0.01, numéro 4 : -488.1461936894128\n",
      "Couche : [50, 50], alpha : 0.001, numéro 0 : -682.697278980941\n",
      "Couche : [50, 50], alpha : 0.001, numéro 1 : -753.9165526157932\n",
      "Couche : [50, 50], alpha : 0.001, numéro 2 : -662.332510269344\n",
      "Couche : [50, 50], alpha : 0.001, numéro 3 : -657.3302052873861\n",
      "Couche : [50, 50], alpha : 0.001, numéro 4 : -640.1977829651622\n",
      "Couche : [50, 50], alpha : 0.1, numéro 0 : -383.8271466748731\n",
      "Couche : [50, 50], alpha : 0.1, numéro 1 : -270.8239988320584\n",
      "Couche : [50, 50], alpha : 0.1, numéro 2 : -579.5336348674964\n",
      "Couche : [50, 50], alpha : 0.1, numéro 3 : -281.4388306540456\n",
      "Couche : [50, 50], alpha : 0.1, numéro 4 : -20.488668565267243\n",
      "Couche : [50, 50], alpha : 1.0, numéro 0 : -18.0080600375046\n",
      "Couche : [50, 50], alpha : 1.0, numéro 1 : -88.86551211310181\n",
      "Couche : [50, 50], alpha : 1.0, numéro 2 : -15.397406806365353\n",
      "Couche : [50, 50], alpha : 1.0, numéro 3 : -60.32827389946103\n",
      "Couche : [50, 50], alpha : 1.0, numéro 4 : -270.10598435570256\n"
     ]
    }
   ],
   "source": [
    "best_norm_parameters, best_model_norm = testParameters([[50,50]], [0.01, 0.001, 0.1, 1.0], epochs=1000,train_data=train_norm_dataloader,valid_data=valid_norm_dataloader)"
   ],
   "metadata": {
    "collapsed": false,
    "pycharm": {
     "name": "#%%\n"
    }
   }
  },
  {
   "cell_type": "code",
   "execution_count": 55,
   "outputs": [],
   "source": [
    "model_load = torch.load('model_non_normalise.model', map_location=device)"
   ],
   "metadata": {
    "collapsed": false,
    "pycharm": {
     "name": "#%%\n"
    }
   }
  },
  {
   "cell_type": "code",
   "execution_count": 67,
   "outputs": [
    {
     "data": {
      "text/plain": "<Figure size 640x480 with 1 Axes>",
      "image/png": "[encoded data removed]"
     },
     "metadata": {},
     "output_type": "display_data"
    }
   ],
   "source": [
    "testDate('03/02/15', model_load)"
   ],
   "metadata": {
    "collapsed": false,
    "pycharm": {
     "name": "#%%\n"
    }
   }
  },
  {
   "cell_type": "markdown",
   "source": [
    "## Traitement des données LOL"
   ],
   "metadata": {
    "collapsed": false,
    "pycharm": {
     "name": "#%% md\n"
    }
   }
  },
  {
   "cell_type": "code",
   "execution_count": 22,
   "outputs": [
    {
     "data": {
      "text/plain": "  Périmètre               Nature        Date Heures  Consommation  \\\n0    France  Données définitives  01/01/2015  00:00       74494.0   \n1    France  Données définitives  01/01/2015  00:15           NaN   \n2    France  Données définitives  01/01/2015  00:30       73481.0   \n\n   Prévision J-1  Prévision J  Fioul  Charbon     Gaz  ...  \\\n0          72900        73700  269.0   2487.0  3476.0  ...   \n1          72250        73050    NaN      NaN     NaN  ...   \n2          71600        72400  319.0   2087.0  2691.0  ...   \n\n   Hydraulique - Fil de l?eau + éclusée  Hydraulique - Lacs  \\\n0                                4810.0              3093.0   \n1                                   NaN                 NaN   \n2                                4616.0              3561.0   \n\n   Hydraulique - STEP turbinage  Bioénergies - Déchets  \\\n0                        1418.0                  560.0   \n1                           NaN                    NaN   \n2                        1487.0                  507.0   \n\n   Bioénergies - Biomasse  Bioénergies - Biogaz   Stockage batterie  \\\n0                   181.0                 197.0                 NaN   \n1                     NaN                   NaN                 NaN   \n2                   180.0                 210.0                 NaN   \n\n   Déstockage batterie Eolien terrestre Eolien offshore  \n0                  NaN              NaN             NaN  \n1                  NaN              NaN             NaN  \n2                  NaN              NaN             NaN  \n\n[3 rows x 40 columns]",
      "text/html": "<div>\n<style scoped>\n    .dataframe tbody tr th:only-of-type {\n        vertical-align: middle;\n    }\n\n    .dataframe tbody tr th {\n        vertical-align: top;\n    }\n\n    .dataframe thead th {\n        text-align: right;\n    }\n</style>\n<table border=\"1\" class=\"dataframe\">\n  <thead>\n    <tr style=\"text-align: right;\">\n      <th></th>\n      <th>Périmètre</th>\n      <th>Nature</th>\n      <th>Date</th>\n      <th>Heures</th>\n      <th>Consommation</th>\n      <th>Prévision J-1</th>\n      <th>Prévision J</th>\n      <th>Fioul</th>\n      <th>Charbon</th>\n      <th>Gaz</th>\n      <th>...</th>\n      <th>Hydraulique - Fil de l?eau + éclusée</th>\n      <th>Hydraulique - Lacs</th>\n      <th>Hydraulique - STEP turbinage</th>\n      <th>Bioénergies - Déchets</th>\n      <th>Bioénergies - Biomasse</th>\n      <th>Bioénergies - Biogaz</th>\n      <th>Stockage batterie</th>\n      <th>Déstockage batterie</th>\n      <th>Eolien terrestre</th>\n      <th>Eolien offshore</th>\n    </tr>\n  </thead>\n  <tbody>\n    <tr>\n      <th>0</th>\n      <td>France</td>\n      <td>Données définitives</td>\n      <td>01/01/2015</td>\n      <td>00:00</td>\n      <td>74494.0</td>\n      <td>72900</td>\n      <td>73700</td>\n      <td>269.0</td>\n      <td>2487.0</td>\n      <td>3476.0</td>\n      <td>...</td>\n      <td>4810.0</td>\n      <td>3093.0</td>\n      <td>1418.0</td>\n      <td>560.0</td>\n      <td>181.0</td>\n      <td>197.0</td>\n      <td>NaN</td>\n      <td>NaN</td>\n      <td>NaN</td>\n      <td>NaN</td>\n    </tr>\n    <tr>\n      <th>1</th>\n      <td>France</td>\n      <td>Données définitives</td>\n      <td>01/01/2015</td>\n      <td>00:15</td>\n      <td>NaN</td>\n      <td>72250</td>\n      <td>73050</td>\n      <td>NaN</td>\n      <td>NaN</td>\n      <td>NaN</td>\n      <td>...</td>\n      <td>NaN</td>\n      <td>NaN</td>\n      <td>NaN</td>\n      <td>NaN</td>\n      <td>NaN</td>\n      <td>NaN</td>\n      <td>NaN</td>\n      <td>NaN</td>\n      <td>NaN</td>\n      <td>NaN</td>\n    </tr>\n    <tr>\n      <th>2</th>\n      <td>France</td>\n      <td>Données définitives</td>\n      <td>01/01/2015</td>\n      <td>00:30</td>\n      <td>73481.0</td>\n      <td>71600</td>\n      <td>72400</td>\n      <td>319.0</td>\n      <td>2087.0</td>\n      <td>2691.0</td>\n      <td>...</td>\n      <td>4616.0</td>\n      <td>3561.0</td>\n      <td>1487.0</td>\n      <td>507.0</td>\n      <td>180.0</td>\n      <td>210.0</td>\n      <td>NaN</td>\n      <td>NaN</td>\n      <td>NaN</td>\n      <td>NaN</td>\n    </tr>\n  </tbody>\n</table>\n<p>3 rows × 40 columns</p>\n</div>"
     },
     "execution_count": 22,
     "metadata": {},
     "output_type": "execute_result"
    }
   ],
   "source": [
    "rapportseCo2 = pd.DataFrame()\n",
    "for i in [15,16,17,18,19]:\n",
    "    rapportseCo2 = pd.concat([rapportseCo2, pd.read_csv(f'./RTE/co2_20{i}.csv', sep=';', header=0, encoding='latin-1')])\n",
    "\n",
    "rapportseCo2.to_csv('./RTE/co2.csv', sep=';', index=False)\n",
    "rapportseCo2.head(3)"
   ],
   "metadata": {
    "collapsed": false,
    "pycharm": {
     "name": "#%%\n"
    }
   }
  },
  {
   "cell_type": "code",
   "execution_count": 31,
   "outputs": [
    {
     "data": {
      "text/plain": "         date  heure         t\n0  01/01/2015  00:00 -0.483333\n1  01/01/2015  03:00 -1.133333\n2  01/01/2015  06:00 -1.378571\n3  01/01/2015  09:00  0.380952\n4  01/01/2015  12:00  4.666667",
      "text/html": "<div>\n<style scoped>\n    .dataframe tbody tr th:only-of-type {\n        vertical-align: middle;\n    }\n\n    .dataframe tbody tr th {\n        vertical-align: top;\n    }\n\n    .dataframe thead th {\n        text-align: right;\n    }\n</style>\n<table border=\"1\" class=\"dataframe\">\n  <thead>\n    <tr style=\"text-align: right;\">\n      <th></th>\n      <th>date</th>\n      <th>heure</th>\n      <th>t</th>\n    </tr>\n  </thead>\n  <tbody>\n    <tr>\n      <th>0</th>\n      <td>01/01/2015</td>\n      <td>00:00</td>\n      <td>-0.483333</td>\n    </tr>\n    <tr>\n      <th>1</th>\n      <td>01/01/2015</td>\n      <td>03:00</td>\n      <td>-1.133333</td>\n    </tr>\n    <tr>\n      <th>2</th>\n      <td>01/01/2015</td>\n      <td>06:00</td>\n      <td>-1.378571</td>\n    </tr>\n    <tr>\n      <th>3</th>\n      <td>01/01/2015</td>\n      <td>09:00</td>\n      <td>0.380952</td>\n    </tr>\n    <tr>\n      <th>4</th>\n      <td>01/01/2015</td>\n      <td>12:00</td>\n      <td>4.666667</td>\n    </tr>\n  </tbody>\n</table>\n</div>"
     },
     "execution_count": 31,
     "metadata": {},
     "output_type": "execute_result"
    }
   ],
   "source": [
    "temperatures.head(3)\n",
    "temperatures2 = temperatures.copy()\n",
    "temperatures2['date'] = temperatures2['date'].map(lambda x: x.strftime('%d/%m/%Y'))\n",
    "temperatures2['heure'] = temperatures2['heure'].map(lambda x: pd.to_datetime(x, format='%H')).map(lambda x: x.strftime('%H:%M'))\n",
    "temperatures2.head()"
   ],
   "metadata": {
    "collapsed": false,
    "pycharm": {
     "name": "#%%\n"
    }
   }
  },
  {
   "cell_type": "code",
   "execution_count": 38,
   "outputs": [],
   "source": [
    "#Ajouter la température\n",
    "data_total = pd.merge(rapportseCo2, temperatures2, left_on=['Date', 'Heures'], right_on=['date', 'heure'], how='left')\n",
    "#Drop date and hour\n",
    "data_total.drop(['date', 'heure'], axis=1, inplace=True)\n",
    "data_total.to_csv('./RTE/co2_with_temp.csv', sep=';', index=False)"
   ],
   "metadata": {
    "collapsed": false,
    "pycharm": {
     "name": "#%%\n"
    }
   }
  },
  {
   "cell_type": "markdown",
   "source": [
    "## Pertinance des variables"
   ],
   "metadata": {
    "collapsed": false,
    "pycharm": {
     "name": "#%% md\n"
    }
   }
  },
  {
   "cell_type": "code",
   "execution_count": 121,
   "outputs": [],
   "source": [
    "#Pour chaque colonne, on permutte aléatoirement ses éléments\n",
    "x_test_copy = np.copy(x_test)\n",
    "col_score = []\n",
    "for i in range(x_test_copy.shape[1]):\n",
    "    x_test_copy[:,i] = np.random.permutation(x_test_copy[:,i])\n",
    "    col_score.append(1/score_perceptron(x_test_copy, y_test, best_model))\n",
    "    x_test_copy = np.copy(x_test)"
   ],
   "metadata": {
    "collapsed": false,
    "pycharm": {
     "name": "#%%\n"
    }
   }
  },
  {
   "cell_type": "code",
   "execution_count": 122,
   "outputs": [
    {
     "data": {
      "text/plain": "[2.0206256797147484,\n 1.060257610559925,\n 2.6847127139778526,\n 1.234628527434042,\n 1.0681851018544768,\n 1.8533514970969245]"
     },
     "execution_count": 122,
     "metadata": {},
     "output_type": "execute_result"
    }
   ],
   "source": [
    "col_score"
   ],
   "metadata": {
    "collapsed": false,
    "pycharm": {
     "name": "#%%\n"
    }
   }
  },
  {
   "cell_type": "code",
   "execution_count": 123,
   "outputs": [
    {
     "data": {
      "text/plain": "<Figure size 640x480 with 1 Axes>",
      "image/png": "[encoded data removed]"
     },
     "metadata": {},
     "output_type": "display_data"
    },
    {
     "name": "stdout",
     "output_type": "stream",
     "text": [
      "Plus la barre est haute, plus la variable est pertinente\n"
     ]
    }
   ],
   "source": [
    "colunms = ['Heures', 'Jour ferié', 'Temperature', 'Mois', 'JourMois', 'JourSemaine']\n",
    "#Normalisation les valeurs entre 0 et 1\n",
    "col_score_norm = np.array(col_score)\n",
    "col_score_norm = (col_score_norm - 1) / (np.max(col_score_norm) - 1)\n",
    "plt.bar(colunms, col_score_norm)\n",
    "plt.show()\n",
    "print(\"Plus la barre est haute, plus la variable est pertinente\")"
   ],
   "metadata": {
    "collapsed": false,
    "pycharm": {
     "name": "#%%\n"
    }
   }
  }
 ],
 "metadata": {
  "kernelspec": {
   "display_name": "Python 3",
   "language": "python",
   "name": "python3"
  },
  "language_info": {
   "codemirror_mode": {
    "name": "ipython",
    "version": 2
   },
   "file_extension": ".py",
   "mimetype": "text/x-python",
   "name": "python",
   "nbconvert_exporter": "python",
   "pygments_lexer": "ipython2",
   "version": "2.7.6"
  }
 },
 "nbformat": 4,
 "nbformat_minor": 0
}