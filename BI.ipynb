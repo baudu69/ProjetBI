{
 "cells": [
  {
   "cell_type": "code",
   "execution_count": 1,
   "metadata": {
    "collapsed": true,
    "pycharm": {
     "name": "#%%\n"
    }
   },
   "outputs": [],
   "source": [
    "import numpy as np\n",
    "np.set_printoptions(threshold=10000,suppress=True)\n",
    "import pandas as pd\n",
    "import warnings\n",
    "import matplotlib.pyplot as plt\n",
    "warnings.filterwarnings('ignore')"
   ]
  },
  {
   "cell_type": "markdown",
   "source": [
    "## Traitement des données de base"
   ],
   "metadata": {
    "collapsed": false,
    "pycharm": {
     "name": "#%% md\n"
    }
   }
  },
  {
   "cell_type": "code",
   "execution_count": 50,
   "outputs": [],
   "source": [
    "def traitementCSVTemperature(fichier):\n",
    "    data = pd.read_csv(fichier,sep=';', header=0)\n",
    "    data = data[['numer_sta','date','t']]\n",
    "    data['date'] = pd.to_datetime(data['date'], format='%Y%m%d%H%M%S')\n",
    "    data['heure'] = data['date'].dt.hour\n",
    "    data['date'] = data['date'].dt.date\n",
    "    #On enlève les stations qui n'ont pas un ID entre 7000 et 8000 (outre-mer)\n",
    "    data = data[data['numer_sta'] >= 7000]\n",
    "    data = data[data['numer_sta'] <= 8000]\n",
    "    data = data[data['t'] != 'mq']\n",
    "    data['t'] = data['t'].astype(float)\n",
    "    data['t'] = data['t'] - 273.15\n",
    "    data = data.groupby(['date','heure','numer_sta']).mean()\n",
    "    data = data.groupby(['date','heure']).mean()\n",
    "    data.reset_index(inplace=True)\n",
    "    return data"
   ],
   "metadata": {
    "collapsed": false,
    "pycharm": {
     "name": "#%%\n"
    }
   }
  },
  {
   "cell_type": "code",
   "execution_count": 51,
   "outputs": [],
   "source": [
    "def traitementCSVConsomation(fichier):\n",
    "    rte = pd.read_csv(fichier,sep=';', header=0)\n",
    "    rte['Date'] = pd.to_datetime(rte['Date'], dayfirst=True)\n",
    "    rte['Date'] = rte['Date'].dt.date\n",
    "    rte = rte[rte['Heures'].str.endswith('00')]\n",
    "    rte['Heures'] = rte['Heures'].str.slice(0,2)\n",
    "    rte['Heures'] = rte['Heures'].astype(int)\n",
    "    return rte"
   ],
   "metadata": {
    "collapsed": false,
    "pycharm": {
     "name": "#%%\n"
    }
   }
  },
  {
   "cell_type": "code",
   "execution_count": 52,
   "outputs": [],
   "source": [
    "def fusionData(rte,temperature):\n",
    "    data = pd.merge(rte,temperature,how='inner',left_on=['Date','Heures'],right_on=['date','heure'])\n",
    "    data = data.drop(['date','heure'],axis=1)\n",
    "    data = data.dropna()\n",
    "    return data"
   ],
   "metadata": {
    "collapsed": false,
    "pycharm": {
     "name": "#%%\n"
    }
   }
  },
  {
   "cell_type": "code",
   "execution_count": 53,
   "outputs": [],
   "source": [
    "def traitementAllCSVTemperatures(fichiers):\n",
    "    data = pd.DataFrame()\n",
    "    for fichier in fichiers:\n",
    "        temp = traitementCSVTemperature(fichier)\n",
    "        data = pd.concat([data,temp])\n",
    "    data = data.groupby(['date','heure']).mean()\n",
    "    data.reset_index(inplace=True)\n",
    "    return data"
   ],
   "metadata": {
    "collapsed": false,
    "pycharm": {
     "name": "#%%\n"
    }
   }
  },
  {
   "cell_type": "code",
   "execution_count": 54,
   "outputs": [],
   "source": [
    "fichiers_temperature = ['temperatures/synop.201801.csv', 'temperatures/synop.201802.csv', 'temperatures/synop.201803.csv', 'temperatures/synop.201804.csv', 'temperatures/synop.201805.csv', 'temperatures/synop.201806.csv', 'temperatures/synop.201807.csv', 'temperatures/synop.201808.csv', 'temperatures/synop.201809.csv', 'temperatures/synop.201810.csv', 'temperatures/synop.201811.csv', 'temperatures/synop.201812.csv']\n",
    "temperatures_2018 = traitementAllCSVTemperatures(fichiers_temperature)"
   ],
   "metadata": {
    "collapsed": false,
    "pycharm": {
     "name": "#%%\n"
    }
   }
  },
  {
   "cell_type": "code",
   "execution_count": 55,
   "outputs": [],
   "source": [
    "rte_2018 = traitementCSVConsomation('rte_2018.csv')"
   ],
   "metadata": {
    "collapsed": false,
    "pycharm": {
     "name": "#%%\n"
    }
   }
  },
  {
   "cell_type": "code",
   "execution_count": 56,
   "outputs": [],
   "source": [
    "data_2018 = fusionData(rte_2018,temperatures_2018)"
   ],
   "metadata": {
    "collapsed": false,
    "pycharm": {
     "name": "#%%\n"
    }
   }
  },
  {
   "cell_type": "code",
   "execution_count": 58,
   "outputs": [],
   "source": [
    "data_2018.to_csv('data_2018.csv',index=False, sep=';')"
   ],
   "metadata": {
    "collapsed": false,
    "pycharm": {
     "name": "#%%\n"
    }
   }
  },
  {
   "cell_type": "markdown",
   "source": [
    "## Traitement des données pour apprentissage"
   ],
   "metadata": {
    "collapsed": false,
    "pycharm": {
     "name": "#%% md\n"
    }
   }
  },
  {
   "cell_type": "code",
   "execution_count": 70,
   "outputs": [
    {
     "data": {
      "text/plain": "   Heures  Consommation         t  jour_ferie  vacances  jour_semaine\n0       0       61127.0  8.338095           1         0             0\n1       3       54727.0  7.761905           1         0             0\n2       6       50751.0  7.471429           1         0             0",
      "text/html": "<div>\n<style scoped>\n    .dataframe tbody tr th:only-of-type {\n        vertical-align: middle;\n    }\n\n    .dataframe tbody tr th {\n        vertical-align: top;\n    }\n\n    .dataframe thead th {\n        text-align: right;\n    }\n</style>\n<table border=\"1\" class=\"dataframe\">\n  <thead>\n    <tr style=\"text-align: right;\">\n      <th></th>\n      <th>Heures</th>\n      <th>Consommation</th>\n      <th>t</th>\n      <th>jour_ferie</th>\n      <th>vacances</th>\n      <th>jour_semaine</th>\n    </tr>\n  </thead>\n  <tbody>\n    <tr>\n      <th>0</th>\n      <td>0</td>\n      <td>61127.0</td>\n      <td>8.338095</td>\n      <td>1</td>\n      <td>0</td>\n      <td>0</td>\n    </tr>\n    <tr>\n      <th>1</th>\n      <td>3</td>\n      <td>54727.0</td>\n      <td>7.761905</td>\n      <td>1</td>\n      <td>0</td>\n      <td>0</td>\n    </tr>\n    <tr>\n      <th>2</th>\n      <td>6</td>\n      <td>50751.0</td>\n      <td>7.471429</td>\n      <td>1</td>\n      <td>0</td>\n      <td>0</td>\n    </tr>\n  </tbody>\n</table>\n</div>"
     },
     "execution_count": 70,
     "metadata": {},
     "output_type": "execute_result"
    }
   ],
   "source": [
    "def ajouterJourSemaine(data):\n",
    "    data['Date'] = pd.to_datetime(data['Date'], format='%Y-%m-%d')\n",
    "    data['jour_semaine'] = data['Date'].dt.dayofweek\n",
    "    return data\n",
    "\n",
    "def enleverDate(data):\n",
    "    data = data.drop(['Date'],axis=1)\n",
    "    return data\n",
    "\n",
    "def ajouterJourFerie(data):\n",
    "    data['Date'] = pd.to_datetime(data['Date'], format='%Y-%m-%d')\n",
    "    data['jour_ferie'] = data['Date'].isin(pd.to_datetime(['2018-01-01','2018-04-01','2018-05-01','2018-05-08','2018-05-10','2018-05-21','2018-05-31','2018-07-14','2018-08-15','2018-11-01','2018-11-11','2018-12-25']))\n",
    "    data['jour_ferie'] = data['jour_ferie'].astype(int)\n",
    "    return data\n",
    "\n",
    "def ajouterJourVacances(data):\n",
    "    data['Date'] = pd.to_datetime(data['Date'], format='%Y-%m-%d')\n",
    "    data['vacances'] = data['Date'].isin(pd.to_datetime(['2018-02-12','2018-02-13','2018-02-14','2018-02-15','2018-02-16','2018-02-19','2018-02-20','2018-02-21','2018-02-22','2018-02-23','2018-04-09','2018-04-10','2018-04-11','2018-04-12','2018-04-13','2018-04-16','2018-04-17','2018-04-18','2018-04-19','2018-04-20','2018-07-09','2018-07-10','2018-07-11','2018-07-12','2018-07-13','2018-07-16','2018-07-17','2018-07-18','2018-07-19','2018-07-20','2018-10-29','2018-10-30','2018-10-31','2018-11-01','2018-11-02','2018-11-05','2018-11-06','2018-11-07','2018-11-08','2018-11-09','2018-12-24','2018-12-25','2018-12-26','2018-12-27','2018-12-28','2018-12-31']))\n",
    "    data['vacances'] = data['vacances'].astype(int)\n",
    "    return data\n",
    "\n",
    "data_apprentissage = ajouterJourFerie(data_2018)\n",
    "data_apprentissage = ajouterJourVacances(data_apprentissage)\n",
    "data_apprentissage = ajouterJourSemaine(data_apprentissage)\n",
    "data_apprentissage = enleverDate(data_apprentissage)\n",
    "data_apprentissage.to_csv('data_apprentissage_2018.csv',index=False, sep=';')\n",
    "data_apprentissage.head(3)"
   ],
   "metadata": {
    "collapsed": false,
    "pycharm": {
     "name": "#%%\n"
    }
   }
  },
  {
   "cell_type": "code",
   "execution_count": null,
   "outputs": [],
   "source": [],
   "metadata": {
    "collapsed": false,
    "pycharm": {
     "name": "#%%\n"
    }
   }
  }
 ],
 "metadata": {
  "kernelspec": {
   "display_name": "Python 3",
   "language": "python",
   "name": "python3"
  },
  "language_info": {
   "codemirror_mode": {
    "name": "ipython",
    "version": 2
   },
   "file_extension": ".py",
   "mimetype": "text/x-python",
   "name": "python",
   "nbconvert_exporter": "python",
   "pygments_lexer": "ipython2",
   "version": "2.7.6"
  }
 },
 "nbformat": 4,
 "nbformat_minor": 0
}