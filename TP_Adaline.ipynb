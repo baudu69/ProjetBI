{
 "cells": [
  {
   "cell_type": "code",
   "execution_count": 2,
   "metadata": {
    "collapsed": true
   },
   "outputs": [],
   "source": [
    "import numpy as np\n",
    "np.set_printoptions(threshold=10000,suppress=True)\n",
    "import pandas as pd\n",
    "import warnings\n",
    "import matplotlib.pyplot as plt\n",
    "warnings.filterwarnings('ignore')\n",
    "from sklearn.model_selection import train_test_split"
   ]
  },
  {
   "cell_type": "code",
   "execution_count": 23,
   "outputs": [],
   "source": [
    "class Adaline(object):\n",
    "    def __init__(self, n_iterations=100, learning_rate=0.01, random_state=1):\n",
    "        self.n_iterations=n_iterations\n",
    "        self.learning_rate=learning_rate\n",
    "        self.random_state=random_state\n",
    "        self.coef_ = None\n",
    "\n",
    "    def fit(self, X, y):\n",
    "        rgen = np.random.RandomState(self.random_state)\n",
    "        self.coef_ = rgen.normal(loc=0.0, scale=0.01, size=1 + X.shape[1])\n",
    "        for _ in range(self.n_iterations):\n",
    "            activation_function_output = self.activation_function(self.net_input(X))\n",
    "            errors = y - activation_function_output\n",
    "            self.coef_[1:] = self.coef_[1:] + self.learning_rate*X.T.dot(errors)\n",
    "            self.coef_[0] = self.coef_[0] + self.learning_rate*errors.sum()\n",
    "\n",
    "    def net_input(self, X):\n",
    "        weighted_sum = np.dot(X, self.coef_[1:]) + self.coef_[0]\n",
    "        return weighted_sum\n",
    "\n",
    "    def activation_function(self, X):\n",
    "        return X\n",
    "\n",
    "    def predict(self, X):\n",
    "        return np.where(self.activation_function(self.net_input(X)) >= 0.0, 1, 0)\n",
    "\n",
    "    def reset(self):\n",
    "        rgen = np.random.RandomState(self.random_state)\n",
    "        self.coef_ = rgen.normal(loc=0.0, scale=0.01, size=1 + X.shape[1])\n",
    "\n",
    "    def score(self, X, y):\n",
    "        if self.coef_ is None:\n",
    "            self.reset()\n",
    "        missclassified_data_count = 0\n",
    "        for xi, target in zip(X, y):\n",
    "            output = self.predict(xi)\n",
    "            if (target != output):\n",
    "                missclassified_data_count+=1\n",
    "        total_data_count=len(X)\n",
    "        self.score_ = (total_data_count - missclassified_data_count)/total_data_count\n",
    "        return self.score_"
   ],
   "metadata": {
    "collapsed": false
   }
  },
  {
   "cell_type": "code",
   "execution_count": 32,
   "outputs": [
    {
     "name": "stdout",
     "output_type": "stream",
     "text": [
      "0.39285714285714285\n",
      "0.34285714285714286\n"
     ]
    }
   ],
   "source": [
    "breast = pd.read_csv('./breast-cancer-wisconsin.txt', header=None, delim_whitespace=True)\n",
    "X = breast.iloc[:,:-1].values\n",
    "Y = breast.iloc[:,-1].values\n",
    "Y = np.where(Y == 2, 0, 1)\n",
    "model = Adaline(n_iterations=10, learning_rate=0.1)\n",
    "x_train, x_test, y_train, y_test = train_test_split(X, Y, test_size=0.2, random_state=0)\n",
    "model.fit(x_train, y_train)\n",
    "print(model.score(x_test, y_test))\n",
    "\n",
    "model2 = Adaline(n_iterations=100)\n",
    "print(model2.score(x_test, y_test))"
   ],
   "metadata": {
    "collapsed": false
   }
  },
  {
   "cell_type": "code",
   "execution_count": null,
   "outputs": [],
   "source": [],
   "metadata": {
    "collapsed": false
   }
  }
 ],
 "metadata": {
  "kernelspec": {
   "display_name": "Python 3",
   "language": "python",
   "name": "python3"
  },
  "language_info": {
   "codemirror_mode": {
    "name": "ipython",
    "version": 2
   },
   "file_extension": ".py",
   "mimetype": "text/x-python",
   "name": "python",
   "nbconvert_exporter": "python",
   "pygments_lexer": "ipython2",
   "version": "2.7.6"
  }
 },
 "nbformat": 4,
 "nbformat_minor": 0
}
